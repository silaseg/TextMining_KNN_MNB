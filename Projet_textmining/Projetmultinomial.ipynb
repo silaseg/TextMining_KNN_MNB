{
 "cells": [
  {
   "cell_type": "code",
   "execution_count": 9,
   "metadata": {},
   "outputs": [],
   "source": [
    "import numpy as np\n",
    "from sklearn.feature_extraction.text import TfidfVectorizer\n",
    "import matplotlib.pyplot as plt\n",
    "\n",
    "%matplotlib inline\n"
   ]
  },
  {
   "cell_type": "code",
   "execution_count": 10,
   "metadata": {},
   "outputs": [],
   "source": [
    "from sklearn.datasets import fetch_20newsgroups\n",
    "\n",
    "#categories = ['alt.atheism', 'comp.graphics', 'sci.space']\n",
    "categories = None\n",
    "data_train = fetch_20newsgroups(subset='train', remove=('headers', 'footers', 'quotes'), categories=categories)\n",
    "data_test = fetch_20newsgroups(subset='test', remove=('headers', 'footers', 'quotes'), categories=categories)\n"
   ]
  },
  {
   "cell_type": "code",
   "execution_count": 11,
   "metadata": {},
   "outputs": [
    {
     "data": {
      "text/plain": [
       "sklearn.utils.Bunch"
      ]
     },
     "execution_count": 11,
     "metadata": {},
     "output_type": "execute_result"
    }
   ],
   "source": [
    "type(data_train)\n",
    "type(data_test)"
   ]
  },
  {
   "cell_type": "code",
   "execution_count": 12,
   "metadata": {},
   "outputs": [
    {
     "name": "stdout",
     "output_type": "stream",
     "text": [
      "[7 4 4 ... 3 1 8]\n",
      "[ 7  5  0 ...  9  6 15]\n"
     ]
    }
   ],
   "source": [
    "print(data_train.target)\n",
    "print (data_test.target)\n"
   ]
  },
  {
   "cell_type": "code",
   "execution_count": 9,
   "metadata": {},
   "outputs": [
    {
     "name": "stdout",
     "output_type": "stream",
     "text": [
      "['alt.atheism', 'comp.graphics', 'comp.os.ms-windows.misc', 'comp.sys.ibm.pc.hardware', 'comp.sys.mac.hardware', 'comp.windows.x', 'misc.forsale', 'rec.autos', 'rec.motorcycles', 'rec.sport.baseball', 'rec.sport.hockey', 'sci.crypt', 'sci.electronics', 'sci.med', 'sci.space', 'soc.religion.christian', 'talk.politics.guns', 'talk.politics.mideast', 'talk.politics.misc', 'talk.religion.misc']\n",
      "['alt.atheism', 'comp.graphics', 'comp.os.ms-windows.misc', 'comp.sys.ibm.pc.hardware', 'comp.sys.mac.hardware', 'comp.windows.x', 'misc.forsale', 'rec.autos', 'rec.motorcycles', 'rec.sport.baseball', 'rec.sport.hockey', 'sci.crypt', 'sci.electronics', 'sci.med', 'sci.space', 'soc.religion.christian', 'talk.politics.guns', 'talk.politics.mideast', 'talk.politics.misc', 'talk.religion.misc']\n"
     ]
    }
   ],
   "source": [
    "print (data_train.target_names)\n",
    "print (data_test.target_names)"
   ]
  },
  {
   "cell_type": "code",
   "execution_count": 13,
   "metadata": {},
   "outputs": [
    {
     "name": "stdout",
     "output_type": "stream",
     "text": [
      "11314\n",
      "7532\n"
     ]
    }
   ],
   "source": [
    "print (len(data_train.data))\n",
    "print (len(data_test.data))"
   ]
  },
  {
   "cell_type": "code",
   "execution_count": 14,
   "metadata": {},
   "outputs": [
    {
     "name": "stdout",
     "output_type": "stream",
     "text": [
      "<type 'list'>\n",
      "<type 'numpy.ndarray'>\n",
      "<type 'list'>\n",
      "<type 'numpy.ndarray'>\n"
     ]
    }
   ],
   "source": [
    "print(type(data_train.data))\n",
    "print(type(data_train.target))\n",
    "\n",
    "# Test data type\n",
    "print(type(data_test.data))\n",
    "print(type(data_test.target))"
   ]
  },
  {
   "cell_type": "code",
   "execution_count": 15,
   "metadata": {},
   "outputs": [],
   "source": [
    "vectorizer = TfidfVectorizer()\n",
    "data_train_vectors = vectorizer.fit_transform(data_train.data)\n",
    "data_test_vectors = vectorizer.transform(data_test.data) "
   ]
  },
  {
   "cell_type": "code",
   "execution_count": 16,
   "metadata": {},
   "outputs": [
    {
     "name": "stdout",
     "output_type": "stream",
     "text": [
      "<type 'numpy.ndarray'>\n",
      "<type 'numpy.ndarray'>\n",
      "<type 'numpy.ndarray'>\n",
      "<type 'numpy.ndarray'>\n"
     ]
    }
   ],
   "source": [
    "# Train data type\n",
    "print (type(data_train_vectors.data))\n",
    "print (type(data_train.target))\n",
    "\n",
    "# Test data type\n",
    "print (type(data_train_vectors.data))\n",
    "print (type(data_train.target))\n"
   ]
  },
  {
   "cell_type": "code",
   "execution_count": 17,
   "metadata": {},
   "outputs": [
    {
     "name": "stdout",
     "output_type": "stream",
     "text": [
      "(11314, 101631)\n"
     ]
    }
   ],
   "source": [
    "print (data_train_vectors.shape)\n"
   ]
  },
  {
   "cell_type": "code",
   "execution_count": 18,
   "metadata": {},
   "outputs": [
    {
     "name": "stdout",
     "output_type": "stream",
     "text": [
      "(11314,)\n"
     ]
    }
   ],
   "source": [
    "# vérifier la forme du résultat (dimension unique correspondant au nombre d'observations)\n",
    "print (data_train.target.shape)\n",
    "\n"
   ]
  },
  {
   "cell_type": "code",
   "execution_count": 19,
   "metadata": {},
   "outputs": [
    {
     "name": "stdout",
     "output_type": "stream",
     "text": [
      "('Xtr:\\n', <11314x101631 sparse matrix of type '<type 'numpy.float64'>'\n",
      "\twith 1103627 stored elements in Compressed Sparse Row format>)\n",
      "('ytr:', array([7, 4, 4, ..., 3, 1, 8]))\n"
     ]
    }
   ],
   "source": [
    "Xtr = data_train_vectors\n",
    "print (\"Xtr:\\n\", Xtr)\n",
    "# stocker le vecteur du résultat à la formation dans \"ytr\"\n",
    "ytr = data_train.target\n",
    "print (\"ytr:\",ytr)"
   ]
  },
  {
   "cell_type": "code",
   "execution_count": 20,
   "metadata": {},
   "outputs": [
    {
     "name": "stdout",
     "output_type": "stream",
     "text": [
      "('Xtt:\\n', <7532x101631 sparse matrix of type '<type 'numpy.float64'>'\n",
      "\twith 665738 stored elements in Compressed Sparse Row format>)\n",
      "('ytt:', array([ 7,  5,  0, ...,  9,  6, 15]))\n"
     ]
    }
   ],
   "source": [
    "Xtt = data_test_vectors\n",
    "print (\"Xtt:\\n\", Xtt)\n",
    "\n",
    "# stocker le vecteur ddu résultat aux tests dans \"ytt\"\n",
    "ytt = data_test.target\n",
    "print (\"ytt:\",ytt)"
   ]
  },
  {
   "cell_type": "code",
   "execution_count": 21,
   "metadata": {},
   "outputs": [],
   "source": [
    "# importer le module requis depuis scikit learn\n",
    "from sklearn.naive_bayes import MultinomialNB\n"
   ]
  },
  {
   "cell_type": "code",
   "execution_count": 22,
   "metadata": {},
   "outputs": [
    {
     "name": "stdout",
     "output_type": "stream",
     "text": [
      "('Predicted Class Labels:', array([ 7,  1, 15, ..., 11, 12, 15]))\n",
      "('Predicted Score:\\n', array([[2.33922785e-03, 8.00299678e-02, 5.93857193e-03, ...,\n",
      "        2.58534569e-03, 6.01529617e-03, 6.78500079e-04],\n",
      "       [4.09205377e-04, 8.04813630e-01, 1.13113063e-02, ...,\n",
      "        1.04980678e-03, 3.35421853e-03, 1.16458819e-03],\n",
      "       [1.10022079e-01, 2.82942568e-02, 7.20466138e-02, ...,\n",
      "        5.75209783e-02, 6.36329151e-02, 9.95471475e-02],\n",
      "       ...,\n",
      "       [1.67251951e-02, 6.17838347e-03, 2.72529039e-03, ...,\n",
      "        4.08349633e-02, 9.15576372e-02, 1.31169817e-02],\n",
      "       [5.24325557e-07, 1.91154890e-02, 2.66689839e-03, ...,\n",
      "        4.54799138e-07, 1.10886936e-06, 6.03922247e-06],\n",
      "       [3.69430453e-01, 1.14028576e-04, 6.52564849e-05, ...,\n",
      "        1.64443397e-03, 2.64732509e-02, 9.27623133e-02]]))\n"
     ]
    }
   ],
   "source": [
    "# Implémentation d'un modèle de classification - à l'aide de MultinomialNB\n",
    "\n",
    "# Instancier l'estimateur\n",
    "clf_MNB = MultinomialNB(alpha=.01)\n",
    "\n",
    "# Ajuster le modèle avec des données (alias \"formation de modèle\")\n",
    "clf_MNB.fit(Xtr, ytr)\n",
    "\n",
    "# Prédire le résultat pour une nouvelle observation\n",
    "y_pred = clf_MNB.predict(Xtt)\n",
    "print (\"Predicted Class Labels:\",y_pred)\n",
    "\n",
    "# Prédire le score du résultat pour une nouvelle observation\n",
    "y_pred_score_mnb = clf_MNB.predict_proba(Xtt)\n",
    "print (\"Predicted Score:\\n\",y_pred_score_mnb)"
   ]
  },
  {
   "cell_type": "code",
   "execution_count": 23,
   "metadata": {},
   "outputs": [],
   "source": [
    "# importer le module requis\n",
    "from sklearn.model_selection import cross_val_score\n"
   ]
  },
  {
   "cell_type": "code",
   "execution_count": 24,
   "metadata": {},
   "outputs": [
    {
     "name": "stdout",
     "output_type": "stream",
     "text": [
      "MultinomialNB 10-Cross Validation Score: 0.7739393256509762\n"
     ]
    }
   ],
   "source": [
    "# Validation croisée 10 fois avec le modèle MNB\n",
    "clf_mnb = MultinomialNB(alpha=.01)\n",
    "print \"MultinomialNB 10-Cross Validation Score:\",cross_val_score(clf_mnb, Xtr, ytr, cv=10, scoring='accuracy').mean()\n",
    "\n"
   ]
  },
  {
   "cell_type": "code",
   "execution_count": 26,
   "metadata": {},
   "outputs": [],
   "source": [
    "# importation du module requis\n",
    "from sklearn.model_selection import GridSearchCV\n",
    "\n"
   ]
  },
  {
   "cell_type": "code",
   "execution_count": 27,
   "metadata": {},
   "outputs": [
    {
     "name": "stdout",
     "output_type": "stream",
     "text": [
      "[0.001, 0.01, 0.1, 0, 10, 20, 30, 40, 50, 60, 70, 80, 90, 100]\n"
     ]
    }
   ],
   "source": [
    "# définir les valeurs des paramètres à rechercher pour MNB\n",
    "alpha = [0.001, 0.01, 0.1, 0, 10, 20, 30, 40, 50, 60, 70, 80, 90, 100]\n",
    "\n",
    "print alpha"
   ]
  },
  {
   "cell_type": "code",
   "execution_count": 28,
   "metadata": {},
   "outputs": [
    {
     "name": "stdout",
     "output_type": "stream",
     "text": [
      "{'alpha': [0.001, 0.01, 0.1, 0, 10, 20, 30, 40, 50, 60, 70, 80, 90, 100]}\n"
     ]
    }
   ],
   "source": [
    "# créer une grille de paramètres: mappez les noms des paramètres aux valeurs à rechercher pour MNB\n",
    "param_grid = dict(alpha=alpha)\n",
    "print param_grid"
   ]
  },
  {
   "cell_type": "code",
   "execution_count": 29,
   "metadata": {},
   "outputs": [],
   "source": [
    "# instancier la grille\n",
    "grid = GridSearchCV(clf_mnb, param_grid, cv=10, scoring='accuracy')"
   ]
  },
  {
   "cell_type": "code",
   "execution_count": 28,
   "metadata": {},
   "outputs": [
    {
     "name": "stdout",
     "output_type": "stream",
     "text": [
      "[0.001, 0.01, 0.1, 0, 10, 20, 30, 40, 50, 60, 70, 80, 90, 100]\n"
     ]
    }
   ],
   "source": [
    "# définir les valeurs des paramètres à rechercher pour MNB\n",
    "alpha = [0.001, 0.01, 0.1, 0, 10, 20, 30, 40, 50, 60, 70, 80, 90, 100]\n",
    "\n",
    "print (alpha)\n"
   ]
  },
  {
   "cell_type": "code",
   "execution_count": 30,
   "metadata": {},
   "outputs": [
    {
     "name": "stderr",
     "output_type": "stream",
     "text": [
      "/home/wassila/.local/lib/python2.7/site-packages/sklearn/naive_bayes.py:480: UserWarning: alpha too small will result in numeric errors, setting alpha = 1.0e-10\n",
      "  'setting alpha = %.1e' % _ALPHA_MIN)\n"
     ]
    },
    {
     "data": {
      "text/plain": [
       "GridSearchCV(cv=10, error_score='raise-deprecating',\n",
       "       estimator=MultinomialNB(alpha=0.01, class_prior=None, fit_prior=True),\n",
       "       fit_params=None, iid='warn', n_jobs=None,\n",
       "       param_grid={'alpha': [0.001, 0.01, 0.1, 0, 10, 20, 30, 40, 50, 60, 70, 80, 90, 100]},\n",
       "       pre_dispatch='2*n_jobs', refit=True, return_train_score='warn',\n",
       "       scoring='accuracy', verbose=0)"
      ]
     },
     "execution_count": 30,
     "metadata": {},
     "output_type": "execute_result"
    }
   ],
   "source": [
    "# adapter la grille aux données\n",
    "grid.fit(Xtr, ytr)"
   ]
  },
  {
   "cell_type": "code",
   "execution_count": null,
   "metadata": {},
   "outputs": [],
   "source": []
  },
  {
   "cell_type": "code",
   "execution_count": null,
   "metadata": {},
   "outputs": [],
   "source": []
  },
  {
   "cell_type": "code",
   "execution_count": 35,
   "metadata": {},
   "outputs": [
    {
     "name": "stdout",
     "output_type": "stream",
     "text": [
      "0.7739084320311119\n",
      "{'alpha': 0.01}\n",
      "MultinomialNB(alpha=0.01, class_prior=None, fit_prior=True)\n"
     ]
    }
   ],
   "source": [
    "# examiner le meilleur modèle\n",
    "print (grid.best_score_)\n",
    "print (grid.best_params_)\n",
    "print (grid.best_estimator_)\n",
    "\n"
   ]
  },
  {
   "cell_type": "code",
   "execution_count": 37,
   "metadata": {},
   "outputs": [],
   "source": [
    "# importation du module requis\n",
    "from sklearn import metrics"
   ]
  },
  {
   "cell_type": "code",
   "execution_count": 38,
   "metadata": {},
   "outputs": [
    {
     "name": "stdout",
     "output_type": "stream",
     "text": [
      "Predicted Class Labels: [ 7  1 15 ... 11 12 15]\n",
      "Classification Accuracy: 0.7002124269782263\n"
     ]
    }
   ],
   "source": [
    "# Instancier l'estimateur\n",
    "clf_MNB = MultinomialNB(alpha=.01)\n",
    "\n",
    "# Ajuster le modèle avec des données (alias \"formation de modèle\")\n",
    "clf_MNB.fit(Xtr, ytr)\n",
    "\n",
    "# Prédire le résultat pour une nouvelle observation\n",
    "y_pred_mnb = clf_MNB.predict(Xtt)\n",
    "print \"Predicted Class Labels:\",y_pred_mnb\n",
    "\n",
    "# calculer la précision\n",
    "print \"Classification Accuracy:\",metrics.accuracy_score(ytt, y_pred_mnb)"
   ]
  },
  {
   "cell_type": "code",
   "execution_count": 39,
   "metadata": {},
   "outputs": [
    {
     "name": "stdout",
     "output_type": "stream",
     "text": [
      "[[141   1   2   2   1   2   0   3   5   2  10   4   1   2  10  79  12  13\n",
      "   10  19]\n",
      " [  4 278  10  16  16  24   4   0   3   1   5  11   3   1   7   4   0   2\n",
      "    0   0]\n",
      " [  4  26 205  65  10  24   3   1   5   0  16  12   2   3   7   2   0   1\n",
      "    5   3]\n",
      " [  0  11  27 279  32   2   9   4   0   0   8   3  17   0   0   0   0   0\n",
      "    0   0]\n",
      " [  0  11   7  33 268   3   8   6   2   0  15   6  15   2   6   1   2   0\n",
      "    0   0]\n",
      " [  0  46  14   7   6 293   4   0   0   1   5   7   5   2   3   1   1   0\n",
      "    0   0]\n",
      " [  0   3   1  30  21   0 280  15   7   2  11   1   8   1   6   1   2   0\n",
      "    1   0]\n",
      " [  1   1   1   1   0   0   8 289  31   0  24   4   9   3   6   3   6   2\n",
      "    7   0]\n",
      " [  6   2   1   1   2   2   5  28 292   2  13   0   8   6   4   6  10   3\n",
      "    6   1]\n",
      " [  5   3   0   0   0   1   5   0   4 321  30   4   1   4   3   5   3   2\n",
      "    6   0]\n",
      " [  4   0   0   0   0   1   0   1   2   5 373   3   0   1   2   6   1   0\n",
      "    0   0]\n",
      " [  1  12   5   3   3   1   1   0   4   3  16 298   3   1   5   7  19   6\n",
      "    7   1]\n",
      " [  1  11   9  28  11   2   8  12   9   1  11  33 228  13  11   2   0   2\n",
      "    1   0]\n",
      " [  4   6   0   1   0   0   1   7   3   0  16   0   5 309   6  19   9   3\n",
      "    5   2]\n",
      " [  5   7   1   1   0   2   0   6   2   1  18   3   6   5 311   6   4   7\n",
      "    8   1]\n",
      " [  8   3   1   0   1   1   0   0   1   1  14   1   0   1   2 354   2   0\n",
      "    2   6]\n",
      " [  5   0   0   1   0   1   1   6   3   1  11  11   1   4   8  14 267   8\n",
      "   11  11]\n",
      " [ 12   2   0   1   0   1   0   1   4   2  10   3   1   0   0  19   8 303\n",
      "    9   0]\n",
      " [ 16   2   0   0   0   0   1   5   2   1   7   5   2  10   7  12  91   9\n",
      "  138   2]\n",
      " [ 31   3   2   1   0   0   0   2   4   1   7   4   2   7   5  96  22   9\n",
      "    8  47]]\n"
     ]
    }
   ],
   "source": [
    "# le premier argument correspond aux valeurs vraies, le deuxième argument correspond aux valeurs prédites\n",
    "print metrics.confusion_matrix(ytt, y_pred_mnb)"
   ]
  },
  {
   "cell_type": "code",
   "execution_count": 40,
   "metadata": {},
   "outputs": [
    {
     "name": "stdout",
     "output_type": "stream",
     "text": [
      "('Classification Error of MultinomialNB:', 0.2997875730217737)\n"
     ]
    }
   ],
   "source": [
    "print (\"Classification Error of MultinomialNB:\", 1 - metrics.accuracy_score(ytt, y_pred_mnb))"
   ]
  },
  {
   "cell_type": "code",
   "execution_count": 41,
   "metadata": {},
   "outputs": [
    {
     "name": "stdout",
     "output_type": "stream",
     "text": [
      "('Sensitivity of MultinomialNB:', 0.7002124269782263)\n"
     ]
    }
   ],
   "source": [
    "print (\"Sensitivity of MultinomialNB:\",metrics.recall_score(ytt, y_pred_mnb, average='weighted'))"
   ]
  },
  {
   "cell_type": "code",
   "execution_count": 42,
   "metadata": {},
   "outputs": [
    {
     "name": "stdout",
     "output_type": "stream",
     "text": [
      "('Precision of MultinomialNB:', 0.7081956398923036)\n"
     ]
    }
   ],
   "source": [
    "print (\"Precision of MultinomialNB:\", metrics.precision_score(ytt, y_pred_mnb, average='weighted'))"
   ]
  },
  {
   "cell_type": "code",
   "execution_count": 43,
   "metadata": {},
   "outputs": [
    {
     "name": "stdout",
     "output_type": "stream",
     "text": [
      "('F-measure of MultinomialNB:', 0.6943152318354207)\n"
     ]
    }
   ],
   "source": [
    "print (\"F-measure of MultinomialNB:\", metrics.f1_score(ytt, y_pred_mnb, average='weighted'))"
   ]
  },
  {
   "cell_type": "code",
   "execution_count": 45,
   "metadata": {},
   "outputs": [],
   "source": [
    "# importation des modules requis\n",
    "from sklearn.metrics import roc_curve, auc\n",
    "from sklearn.model_selection import train_test_split\n",
    "from sklearn.preprocessing import label_binarize\n",
    "from sklearn.multiclass import OneVsRestClassifier"
   ]
  },
  {
   "cell_type": "code",
   "execution_count": 50,
   "metadata": {},
   "outputs": [],
   "source": [
    "def ROC_multi_class(Xtr, ytr, Xtt, ytt, clf):\n",
    "    \n",
    "    classes = [0,1, 2, 3, 4]\n",
    "   # Binariser la sortie\n",
    "    ytr = label_binarize(ytr, classes=classes)\n",
    "    n_classes = ytr.shape[1]\n",
    "    \n",
    "   # Apprenez à prédire chaque classe par rapport à l'autre\n",
    "    classifier = OneVsRestClassifier(clf)\n",
    "    classifier.fit(Xtr, ytr)\n",
    "    if (clf == clf_MNB):\n",
    "       \n",
    "        y_pred_score = classifier.predict_proba(Xtt)\n",
    "    \n",
    "    ytt = label_binarize(ytt, classes=classes)\n",
    "    \n",
    " # Calculer la courbe ROC et la zone ROC pour chaque classe\n",
    "    fpr = dict()\n",
    "    tpr = dict()\n",
    "    roc_auc = dict()\n",
    "    for i in range(n_classes):\n",
    "        fpr[i], tpr[i], _ = roc_curve(ytt[:, i], y_pred_score[:, i])\n",
    "        roc_auc[i] = auc(fpr[i], tpr[i])\n",
    "\n",
    "    \n",
    "    # Tracer les courbes ROC pour la multiclasse\n",
    "    for i in range(n_classes):\n",
    "        plt.plot(fpr[i], tpr[i], label='ROC curve of class {0} (area = {1:0.2f})'\n",
    "                                       ''.format(i+1, roc_auc[i]))\n",
    "    \n",
    "    plt.plot([0, 1], [0, 1], 'k--')\n",
    "    plt.xlim([0.0, 1.0])\n",
    "    plt.ylim([0.0, 1.05])\n",
    "    plt.xlabel('False Positive Rate')\n",
    "    plt.ylabel('True Positive Rate')\n",
    "    plt.title('ROC of multi-class')\n",
    "    plt.legend(loc=\"lower right\")\n",
    "    plt.show()"
   ]
  },
  {
   "cell_type": "code",
   "execution_count": 51,
   "metadata": {},
   "outputs": [
    {
     "name": "stdout",
     "output_type": "stream",
     "text": [
      "ROC and AUC of MultinomialNB\n"
     ]
    },
    {
     "data": {
      "image/png": "[encoded data removed]",
      "text/plain": [
       "<Figure size 432x288 with 1 Axes>"
      ]
     },
     "metadata": {
      "needs_background": "light"
     },
     "output_type": "display_data"
    }
   ],
   "source": [
    "# ROC pour MultinomialNB\n",
    "print \"ROC and AUC of MultinomialNB\"\n",
    "ROC_multi_class(Xtr, ytr, Xtt, ytt, clf_MNB)"
   ]
  },
  {
   "cell_type": "code",
   "execution_count": 52,
   "metadata": {},
   "outputs": [],
   "source": [
    "# importation du module requis\n",
    "from sklearn.metrics import precision_recall_curve\n",
    "from sklearn.metrics import average_precision_score\n",
    "\n"
   ]
  },
  {
   "cell_type": "code",
   "execution_count": 55,
   "metadata": {},
   "outputs": [],
   "source": [
    "def PR_multi_class(Xtr, ytr, Xtt, ytt, clf):\n",
    "    \n",
    "    classes = [0,1, 2, 3, 4]\n",
    "   # Binariser la sortie\n",
    "    ytr = label_binarize(ytr, classes=classes)\n",
    "    n_classes = ytr.shape[1]\n",
    "    \n",
    "    # Apprenez à prédire chaque classe par rapport à l'autre\n",
    "    classifier = OneVsRestClassifier(clf)\n",
    "    classifier.fit(Xtr, ytr)\n",
    "    if (clf == clf_MNB):\n",
    "       \n",
    "        y_pred_score = classifier.predict_proba(Xtt)\n",
    "    \n",
    "    ytt = label_binarize(ytt, classes=classes)\n",
    "    \n",
    "# Compute Precision-Recall et courbe de tracé\n",
    "    precision = dict()\n",
    "    recall = dict()\n",
    "    average_precision = dict()\n",
    "    for i in range(n_classes):\n",
    "        precision[i], recall[i], _ = precision_recall_curve(ytt[:, i], y_pred_score[:, i])\n",
    "        average_precision[i] = average_precision_score(ytt[:, i], y_pred_score[:, i])\n",
    "    \n",
    "    for i in range(n_classes):\n",
    "        plt.plot(recall[i], precision[i], label='PR curve of class {0} (area = {1:0.2f})'\n",
    "                       ''.format(i+1, average_precision[i]))\n",
    "    \n",
    "    plt.xlim([0.0, 1.0])\n",
    "    plt.ylim([0.0, 1.05])\n",
    "    plt.xlabel('Recall')\n",
    "    plt.ylabel('Precision')\n",
    "    plt.title('Precision-Recall curve of multi-class')\n",
    "    plt.legend(loc=\"lower right\")\n",
    "    plt.show()"
   ]
  },
  {
   "cell_type": "code",
   "execution_count": 56,
   "metadata": {},
   "outputs": [
    {
     "name": "stdout",
     "output_type": "stream",
     "text": [
      "PR and AUC of MultinomialNB\n"
     ]
    },
    {
     "data": {
      "image/png": "[encoded data removed]",
      "text/plain": [
       "<Figure size 432x288 with 1 Axes>"
      ]
     },
     "metadata": {
      "needs_background": "light"
     },
     "output_type": "display_data"
    }
   ],
   "source": [
    "# Courbe PR de MultinomialNB\n",
    "print \"PR and AUC of MultinomialNB\"\n",
    "PR_multi_class(Xtr, ytr, Xtt, ytt, clf_MNB)"
   ]
  },
  {
   "cell_type": "code",
   "execution_count": null,
   "metadata": {},
   "outputs": [],
   "source": []
  },
  {
   "cell_type": "code",
   "execution_count": null,
   "metadata": {},
   "outputs": [],
   "source": []
  },
  {
   "cell_type": "code",
   "execution_count": null,
   "metadata": {},
   "outputs": [],
   "source": []
  },
  {
   "cell_type": "code",
   "execution_count": null,
   "metadata": {},
   "outputs": [],
   "source": []
  },
  {
   "cell_type": "code",
   "execution_count": 16,
   "metadata": {},
   "outputs": [],
   "source": [
    "\n"
   ]
  },
  {
   "cell_type": "code",
   "execution_count": 17,
   "metadata": {},
   "outputs": [],
   "source": []
  },
  {
   "cell_type": "code",
   "execution_count": null,
   "metadata": {},
   "outputs": [],
   "source": []
  },
  {
   "cell_type": "code",
   "execution_count": null,
   "metadata": {},
   "outputs": [],
   "source": []
  }
 ],
 "metadata": {
  "kernelspec": {
   "display_name": "Python 3",
   "language": "python",
   "name": "python3"
  },
  "language_info": {
   "codemirror_mode": {
    "name": "ipython",
    "version": 3
   },
   "file_extension": ".py",
   "mimetype": "text/x-python",
   "name": "python",
   "nbconvert_exporter": "python",
   "pygments_lexer": "ipython3",
   "version": "3.7.4"
  }
 },
 "nbformat": 4,
 "nbformat_minor": 2
}
