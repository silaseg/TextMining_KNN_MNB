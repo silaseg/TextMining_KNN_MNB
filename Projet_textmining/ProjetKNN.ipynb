{
 "cells": [
  {
   "cell_type": "markdown",
   "metadata": {},
   "source": [
    "##                      Projet d'Analyse des données et extraction de texte"
   ]
  },
  {
   "cell_type": "code",
   "execution_count": 1,
   "metadata": {},
   "outputs": [],
   "source": [
    "#importer les modules requis\n",
    "import numpy as np\n",
    "from sklearn.feature_extraction.text import TfidfVectorizer\n",
    "import matplotlib.pyplot as plt\n",
    "\n",
    "%matplotlib inline"
   ]
  },
  {
   "cell_type": "markdown",
   "metadata": {},
   "source": [
    "## Chargement du dataset 20newsgroups en scikit-learn"
   ]
  },
  {
   "cell_type": "code",
   "execution_count": 2,
   "metadata": {},
   "outputs": [],
   "source": [
    "# importation de 20 newsgroup dataset\n",
    "from sklearn.datasets import fetch_20newsgroups\n",
    "\n",
    "#categories = ['alt.atheism', 'comp.graphics', 'sci.space']\n",
    "categories = None\n",
    "data_train = fetch_20newsgroups(subset='train', remove=('headers', 'footers', 'quotes'), categories=categories)\n",
    "data_test = fetch_20newsgroups(subset='test', remove=('headers', 'footers', 'quotes'), categories=categories)"
   ]
  },
  {
   "cell_type": "code",
   "execution_count": 3,
   "metadata": {},
   "outputs": [
    {
     "data": {
      "text/plain": [
       "sklearn.utils.Bunch"
      ]
     },
     "execution_count": 3,
     "metadata": {},
     "output_type": "execute_result"
    }
   ],
   "source": [
    "type(data_train)\n",
    "type(data_test)"
   ]
  },
  {
   "cell_type": "code",
   "execution_count": 4,
   "metadata": {},
   "outputs": [
    {
     "name": "stdout",
     "output_type": "stream",
     "text": [
      "Train data target labels: [7 4 4 ... 3 1 8]\n",
      "Test data target labels: [ 7  5  0 ...  9  6 15]\n"
     ]
    }
   ],
   "source": [
    "print (\"Train data target labels:\",data_train.target)\n",
    "print (\"Test data target labels:\",data_test.target)"
   ]
  },
  {
   "cell_type": "code",
   "execution_count": 5,
   "metadata": {},
   "outputs": [
    {
     "name": "stdout",
     "output_type": "stream",
     "text": [
      "Train data target names: ['alt.atheism', 'comp.graphics', 'comp.os.ms-windows.misc', 'comp.sys.ibm.pc.hardware', 'comp.sys.mac.hardware', 'comp.windows.x', 'misc.forsale', 'rec.autos', 'rec.motorcycles', 'rec.sport.baseball', 'rec.sport.hockey', 'sci.crypt', 'sci.electronics', 'sci.med', 'sci.space', 'soc.religion.christian', 'talk.politics.guns', 'talk.politics.mideast', 'talk.politics.misc', 'talk.religion.misc']\n",
      "Test data target names: ['alt.atheism', 'comp.graphics', 'comp.os.ms-windows.misc', 'comp.sys.ibm.pc.hardware', 'comp.sys.mac.hardware', 'comp.windows.x', 'misc.forsale', 'rec.autos', 'rec.motorcycles', 'rec.sport.baseball', 'rec.sport.hockey', 'sci.crypt', 'sci.electronics', 'sci.med', 'sci.space', 'soc.religion.christian', 'talk.politics.guns', 'talk.politics.mideast', 'talk.politics.misc', 'talk.religion.misc']\n"
     ]
    }
   ],
   "source": [
    "print (\"Train data target names:\",data_train.target_names)\n",
    "print (\"Test data target names:\",data_test.target_names)"
   ]
  },
  {
   "cell_type": "code",
   "execution_count": 6,
   "metadata": {},
   "outputs": [
    {
     "name": "stdout",
     "output_type": "stream",
     "text": [
      "Total train data: 11314\n",
      "Total test data: 7532\n"
     ]
    }
   ],
   "source": [
    "print (\"Total train data:\",len(data_train.data))\n",
    "print (\"Total test data:\",len(data_test.data))"
   ]
  },
  {
   "cell_type": "code",
   "execution_count": 7,
   "metadata": {},
   "outputs": [
    {
     "name": "stdout",
     "output_type": "stream",
     "text": [
      "<class 'list'>\n",
      "<class 'numpy.ndarray'>\n",
      "<class 'list'>\n",
      "<class 'numpy.ndarray'>\n"
     ]
    }
   ],
   "source": [
    "# Type de train data \n",
    "print (type(data_train.data))\n",
    "print (type(data_train.target))\n",
    "\n",
    "# Type de test data \n",
    "print (type(data_test.data))\n",
    "print (type(data_test.target))"
   ]
  },
  {
   "cell_type": "markdown",
   "metadata": {},
   "source": [
    "## Traitement et transformation de texte"
   ]
  },
  {
   "cell_type": "code",
   "execution_count": 9,
   "metadata": {},
   "outputs": [
    {
     "data": {
      "text/plain": [
       "(5, 5)"
      ]
     },
     "execution_count": 9,
     "metadata": {},
     "output_type": "execute_result"
    }
   ],
   "source": [
    "from sklearn.feature_extraction.text import CountVectorizer\n",
    "count_vect = CountVectorizer()\n",
    "X_train_counts = count_vect.fit_transform(data_train)\n",
    "X_train_counts.shape"
   ]
  },
  {
   "cell_type": "code",
   "execution_count": 10,
   "metadata": {},
   "outputs": [],
   "source": [
    "count_vect.vocabulary_.get(u'algorithm')"
   ]
  },
  {
   "cell_type": "code",
   "execution_count": 11,
   "metadata": {},
   "outputs": [],
   "source": [
    "# convertir les données textuelles en vecteurs de valeurs numériques à l’aide de tf-idf pour former un vecteur\n",
    "vectorizer = TfidfVectorizer()\n",
    "data_train_vectors = vectorizer.fit_transform(data_train.data)\n",
    "data_test_vectors = vectorizer.transform(data_test.data)"
   ]
  },
  {
   "cell_type": "markdown",
   "metadata": {},
   "source": [
    "## Analyse de données "
   ]
  },
  {
   "cell_type": "code",
   "execution_count": 12,
   "metadata": {},
   "outputs": [
    {
     "name": "stdout",
     "output_type": "stream",
     "text": [
      "<class 'numpy.ndarray'>\n",
      "<class 'numpy.ndarray'>\n",
      "<class 'numpy.ndarray'>\n",
      "<class 'numpy.ndarray'>\n"
     ]
    }
   ],
   "source": [
    "# Type de train data \n",
    "print (type(data_train_vectors.data))\n",
    "print (type(data_train.target))\n",
    "\n",
    "# Type de test data \n",
    "print (type(data_train_vectors.data))\n",
    "print (type(data_train.target))"
   ]
  },
  {
   "cell_type": "code",
   "execution_count": 13,
   "metadata": {},
   "outputs": [
    {
     "name": "stdout",
     "output_type": "stream",
     "text": [
      "(11314, 101631)\n"
     ]
    }
   ],
   "source": [
    "# vérifier la forme de la matrice des caractéristiques\n",
    "print (data_train_vectors.shape)"
   ]
  },
  {
   "cell_type": "code",
   "execution_count": 15,
   "metadata": {},
   "outputs": [
    {
     "name": "stdout",
     "output_type": "stream",
     "text": [
      "(11314,)\n"
     ]
    }
   ],
   "source": [
    "# vérifier la forme de la réponse (dimension unique correspondant au nombre d’observations)\n",
    "print (data_train.target.shape)"
   ]
  },
  {
   "cell_type": "code",
   "execution_count": 16,
   "metadata": {},
   "outputs": [
    {
     "name": "stdout",
     "output_type": "stream",
     "text": [
      "Xtr:\n",
      "   (0, 59216)\t0.08725268270111304\n",
      "  (0, 71850)\t0.07616585088687908\n",
      "  (0, 57393)\t0.0923857759707218\n",
      "  (0, 41979)\t0.19506948098166685\n",
      "  (0, 45885)\t0.04116726358517173\n",
      "  (0, 100208)\t0.04162912251846176\n",
      "  (0, 49932)\t0.10311614467122757\n",
      "  (0, 96395)\t0.10736893400961603\n",
      "  (0, 68409)\t0.045794107112368615\n",
      "  (0, 46814)\t0.10862631323814369\n",
      "  (0, 59079)\t0.08409501360833291\n",
      "  (0, 96433)\t0.07424754622734692\n",
      "  (0, 73373)\t0.14022858154649154\n",
      "  (0, 99911)\t0.0818197705881931\n",
      "  (0, 84276)\t0.14185552804207183\n",
      "  (0, 37287)\t0.12458509983363618\n",
      "  (0, 64931)\t0.09279094041294153\n",
      "  (0, 62746)\t0.11325721998728744\n",
      "  (0, 88143)\t0.2242035496067306\n",
      "  (0, 25590)\t0.048870877324188766\n",
      "  (0, 54632)\t0.06048007039093347\n",
      "  (0, 17936)\t0.052663855225258106\n",
      "  (0, 51136)\t0.06865521705397437\n",
      "  (0, 23480)\t0.1123868370862882\n",
      "  (0, 67670)\t0.06456572940695553\n",
      "  :\t:\n",
      "  (11313, 81742)\t0.13241254413957532\n",
      "  (11313, 81792)\t0.14804499058455659\n",
      "  (11313, 40387)\t0.0867206848739519\n",
      "  (11313, 47209)\t0.15303400468821185\n",
      "  (11313, 25475)\t0.13373887048501934\n",
      "  (11313, 90644)\t0.11716855199310572\n",
      "  (11313, 6044)\t0.20918997009133847\n",
      "  (11313, 44748)\t0.11070348996423005\n",
      "  (11313, 22529)\t0.09187360726787282\n",
      "  (11313, 68997)\t0.0833655821220648\n",
      "  (11313, 46271)\t0.08973049108297083\n",
      "  (11313, 2777)\t0.10299961438227635\n",
      "  (11313, 66242)\t0.06149181729960768\n",
      "  (11313, 20123)\t0.05436048417734594\n",
      "  (11313, 57131)\t0.08897900001645209\n",
      "  (11313, 64435)\t0.058038402626956455\n",
      "  (11313, 18521)\t0.06883288613042422\n",
      "  (11313, 41127)\t0.039704635902248736\n",
      "  (11313, 66857)\t0.19058690917753038\n",
      "  (11313, 68409)\t0.049284812059613034\n",
      "  (11313, 37287)\t0.13408173273609872\n",
      "  (11313, 41715)\t0.054705611892621644\n",
      "  (11313, 51326)\t0.03818144305612196\n",
      "  (11313, 68080)\t0.04463717354330131\n",
      "  (11313, 60560)\t0.061180430720823166\n",
      "ytr: [7 4 4 ... 3 1 8]\n"
     ]
    }
   ],
   "source": [
    "#  stocker la matrice de fonctionnalité de formation dans \"Xtr\"\n",
    "Xtr = data_train_vectors\n",
    "print (\"Xtr:\\n\", Xtr)\n",
    "\n",
    "# store training response vector in \"ytr\"\n",
    "ytr = data_train.target\n",
    "print (\"ytr:\",ytr)"
   ]
  },
  {
   "cell_type": "code",
   "execution_count": 17,
   "metadata": {},
   "outputs": [
    {
     "name": "stdout",
     "output_type": "stream",
     "text": [
      "Xtt:\n",
      "   (0, 100208)\t0.04552652065236068\n",
      "  (0, 99908)\t0.09332616771302898\n",
      "  (0, 97240)\t0.11951258956562365\n",
      "  (0, 96391)\t0.05867573115101415\n",
      "  (0, 93592)\t0.24772115542399506\n",
      "  (0, 92955)\t0.11541103934826256\n",
      "  (0, 89360)\t0.06562103715075537\n",
      "  (0, 89092)\t0.14592509321427227\n",
      "  (0, 88767)\t0.044847221550678766\n",
      "  (0, 88694)\t0.05609512027045376\n",
      "  (0, 88578)\t0.07154608326188232\n",
      "  (0, 88532)\t0.2395528152171037\n",
      "  (0, 88519)\t0.03921639192748113\n",
      "  (0, 88501)\t0.06998314809025451\n",
      "  (0, 88138)\t0.09661130503410108\n",
      "  (0, 86307)\t0.14214443084125739\n",
      "  (0, 84598)\t0.15477036379403195\n",
      "  (0, 83888)\t0.09322903287306315\n",
      "  (0, 81241)\t0.14621282905564145\n",
      "  (0, 72905)\t0.2451939150765593\n",
      "  (0, 70695)\t0.1276914606142514\n",
      "  (0, 68781)\t0.06795439065647194\n",
      "  (0, 68409)\t0.0500814390762879\n",
      "  (0, 68080)\t0.04535867732725786\n",
      "  (0, 67670)\t0.14122099316299058\n",
      "  :\t:\n",
      "  (7531, 54632)\t0.07179487683313424\n",
      "  (7531, 51223)\t0.11159470709485804\n",
      "  (7531, 51136)\t0.16299891255024412\n",
      "  (7531, 48650)\t0.11268973116168066\n",
      "  (7531, 47204)\t0.3742651013346243\n",
      "  (7531, 46718)\t0.10259953279619993\n",
      "  (7531, 41127)\t0.08758885945302672\n",
      "  (7531, 40395)\t0.1242042674241263\n",
      "  (7531, 39397)\t0.14587422240960732\n",
      "  (7531, 37431)\t0.1374064333317423\n",
      "  (7531, 34763)\t0.14253575920405764\n",
      "  (7531, 34686)\t0.09972781595027391\n",
      "  (7531, 34018)\t0.13156050219981774\n",
      "  (7531, 30074)\t0.0802124821621346\n",
      "  (7531, 29356)\t0.1848622338971831\n",
      "  (7531, 27211)\t0.1356410245370251\n",
      "  (7531, 26461)\t0.31360713486156755\n",
      "  (7531, 24804)\t0.10687631679332683\n",
      "  (7531, 22267)\t0.09890856799181004\n",
      "  (7531, 22219)\t0.09074954412454103\n",
      "  (7531, 22152)\t0.09548173990914553\n",
      "  (7531, 19491)\t0.13341252869118972\n",
      "  (7531, 18903)\t0.06531484061746679\n",
      "  (7531, 18408)\t0.0604927351258423\n",
      "  (7531, 16408)\t0.1613676054291175\n",
      "ytt: [ 7  5  0 ...  9  6 15]\n"
     ]
    }
   ],
   "source": [
    "\n",
    "# stocker la matrice des fonctionnalités de test dans \"Xtt\"\n",
    "Xtt = data_test_vectors\n",
    "print (\"Xtt:\\n\", Xtt)\n",
    "\n",
    "# store testing response vector in \"ytt\"\n",
    "ytt = data_test.target\n",
    "print (\"ytt:\",ytt)"
   ]
  },
  {
   "cell_type": "markdown",
   "metadata": {},
   "source": [
    "## Apprentissage automatique"
   ]
  },
  {
   "cell_type": "code",
   "execution_count": 18,
   "metadata": {},
   "outputs": [],
   "source": [
    "# importer le module requis à partir de scikit learn\n",
    "from sklearn.neighbors import KNeighborsClassifier"
   ]
  },
  {
   "cell_type": "code",
   "execution_count": 19,
   "metadata": {},
   "outputs": [
    {
     "name": "stdout",
     "output_type": "stream",
     "text": [
      "Predicted Class Labels: [2 7 2 ... 1 2 2]\n",
      "Predicted Score:\n",
      " [[0.2 0.  0.4 ... 0.2 0.  0. ]\n",
      " [0.  0.  0.  ... 0.  0.  0. ]\n",
      " [0.  0.  0.2 ... 0.  0.  0. ]\n",
      " ...\n",
      " [0.  0.2 0.2 ... 0.2 0.2 0. ]\n",
      " [0.  0.  0.2 ... 0.  0.  0. ]\n",
      " [0.  0.  0.2 ... 0.  0.  0. ]]\n"
     ]
    }
   ],
   "source": [
    "# Implementation du modèle de classification- à l’aide de KNeighborsClassifier\n",
    "\n",
    "# Instantané de l’estimateur\n",
    "clf_knn =  KNeighborsClassifier(n_neighbors=5)\n",
    "\n",
    "# Adapter le modèle avec des données(aka \"model training\")\n",
    "clf_knn.fit(Xtr, ytr)\n",
    "\n",
    "# Prédire la réponse à une nouvelle observation\n",
    "y_pred = clf_knn.predict(Xtt)\n",
    "print (\"Predicted Class Labels:\",y_pred)\n",
    "\n",
    "# Prédire le score de réponse pour une nouvelle observation\n",
    "y_pred_score_knn = clf_knn.predict_proba(Xtt)\n",
    "print (\"Predicted Score:\\n\",y_pred_score_knn)"
   ]
  },
  {
   "cell_type": "markdown",
   "metadata": {},
   "source": [
    "\n",
    "## Cross-validation: Sélection de modèles"
   ]
  },
  {
   "cell_type": "code",
   "execution_count": 25,
   "metadata": {},
   "outputs": [],
   "source": [
    "# importer le module requis\n",
    "from sklearn.model_selection import cross_val_score"
   ]
  },
  {
   "cell_type": "code",
   "execution_count": 27,
   "metadata": {},
   "outputs": [
    {
     "name": "stdout",
     "output_type": "stream",
     "text": [
      "KNN 10-Cross Validation Score: 0.07070746360986399\n"
     ]
    }
   ],
   "source": [
    "# 10-fold cross-validation avec le modèle KNN\n",
    "clf_knn = KNeighborsClassifier(n_neighbors=55)\n",
    "print (\"KNN 10-Cross Validation Score:\",cross_val_score (clf_knn, Xtr, ytr, cv=10, scoring='accuracy').mean())"
   ]
  },
  {
   "cell_type": "markdown",
   "metadata": {},
   "source": [
    "## Réglage de paramètre plus efficace à l’aide de GridSearchCV\n"
   ]
  },
  {
   "cell_type": "code",
   "execution_count": 28,
   "metadata": {},
   "outputs": [],
   "source": [
    "# importer le module requis\n",
    "from sklearn.model_selection import GridSearchCV"
   ]
  },
  {
   "cell_type": "markdown",
   "metadata": {},
   "source": [
    "## GridSearchCV for KNN"
   ]
  },
  {
   "cell_type": "code",
   "execution_count": 29,
   "metadata": {},
   "outputs": [
    {
     "name": "stdout",
     "output_type": "stream",
     "text": [
      "range(1, 100)\n",
      "['uniform', 'distance']\n"
     ]
    }
   ],
   "source": [
    "# définir les valeurs paramètres qui doivent être recherchées pour KNN\n",
    "k_range = range(1, 100)\n",
    "weight_options = ['uniform', 'distance']\n",
    "print (k_range)\n",
    "print (weight_options)"
   ]
  },
  {
   "cell_type": "code",
   "execution_count": 30,
   "metadata": {},
   "outputs": [
    {
     "name": "stdout",
     "output_type": "stream",
     "text": [
      "{'n_neighbors': range(1, 100), 'weights': ['uniform', 'distance']}\n"
     ]
    }
   ],
   "source": [
    "\n",
    "# créer une grille de paramètres : cartographiez les noms de paramètres aux valeurs à rechercher pour KNN\n",
    "param_grid = dict(n_neighbors=k_range, weights=weight_options)\n",
    "print (param_grid)"
   ]
  },
  {
   "cell_type": "code",
   "execution_count": 31,
   "metadata": {},
   "outputs": [],
   "source": [
    "# instantané de la grille\n",
    "grid = GridSearchCV(clf_knn, param_grid, cv=10, scoring='accuracy')"
   ]
  },
  {
   "cell_type": "code",
   "execution_count": 32,
   "metadata": {},
   "outputs": [
    {
     "data": {
      "text/plain": [
       "GridSearchCV(cv=10, error_score=nan,\n",
       "             estimator=KNeighborsClassifier(algorithm='auto', leaf_size=30,\n",
       "                                            metric='minkowski',\n",
       "                                            metric_params=None, n_jobs=None,\n",
       "                                            n_neighbors=55, p=2,\n",
       "                                            weights='uniform'),\n",
       "             iid='deprecated', n_jobs=None,\n",
       "             param_grid={'n_neighbors': range(1, 100),\n",
       "                         'weights': ['uniform', 'distance']},\n",
       "             pre_dispatch='2*n_jobs', refit=True, return_train_score=False,\n",
       "             scoring='accuracy', verbose=0)"
      ]
     },
     "execution_count": 32,
     "metadata": {},
     "output_type": "execute_result"
    }
   ],
   "source": [
    "# adapter la grille avec les données\n",
    "grid.fit(Xtr, ytr)"
   ]
  },
  {
   "cell_type": "code",
   "execution_count": 34,
   "metadata": {},
   "outputs": [
    {
     "data": {
      "text/plain": [
       "{'mean_fit_time': array([0.01735468, 0.01835513, 0.01735492, 0.01795313, 0.01655729,\n",
       "        0.01885073, 0.01665652, 0.01735427, 0.01665664, 0.01785321,\n",
       "        0.01655729, 0.01835153, 0.01635787, 0.01765344, 0.01685665,\n",
       "        0.01775355, 0.01595826, 0.01725445, 0.01635799, 0.01795828,\n",
       "        0.01615922, 0.01735437, 0.01605821, 0.01665685, 0.016557  ,\n",
       "        0.01885064, 0.01635773, 0.01755469, 0.01595855, 0.01725531,\n",
       "        0.01635759, 0.01715522, 0.01645792, 0.01815255, 0.01685677,\n",
       "        0.01775365, 0.01795657, 0.01735401, 0.016658  , 0.01745408,\n",
       "        0.01675627, 0.01765413, 0.01685641, 0.01745327, 0.01675653,\n",
       "        0.01735418, 0.01586027, 0.01735485, 0.01605866, 0.0168566 ,\n",
       "        0.01625786, 0.01695251, 0.01585946, 0.01685562, 0.01605909,\n",
       "        0.01675591, 0.01595926, 0.01705487, 0.01735539, 0.01744998,\n",
       "        0.01605883, 0.01685607, 0.01635804, 0.01705523, 0.01626189,\n",
       "        0.01665618, 0.01685696, 0.01715498, 0.01675646, 0.01704764,\n",
       "        0.01595967, 0.01695213, 0.01615837, 0.01715157, 0.01606297,\n",
       "        0.01954863, 0.01595938, 0.01685567, 0.01615839, 0.01695571,\n",
       "        0.01625891, 0.01685605, 0.01615841, 0.01685905, 0.01625831,\n",
       "        0.0172549 , 0.01616232, 0.01715071, 0.01625826, 0.0172549 ,\n",
       "        0.01595943, 0.01725488, 0.01685581, 0.0209444 , 0.01715505,\n",
       "        0.01785295, 0.01735456, 0.01735392, 0.016856  , 0.01855085,\n",
       "        0.01655653, 0.01845062, 0.017454  , 0.0180028 , 0.01755395,\n",
       "        0.01835165, 0.01695557, 0.01775291, 0.01635671, 0.01825218,\n",
       "        0.01705472, 0.01765301, 0.01665637, 0.01785305, 0.0167558 ,\n",
       "        0.01914942, 0.01865056, 0.0180522 , 0.01825221, 0.0191494 ,\n",
       "        0.01765382, 0.01855109, 0.01715512, 0.01915002, 0.01675601,\n",
       "        0.01855104, 0.01685545, 0.01865063, 0.017853  , 0.01865067,\n",
       "        0.01755395, 0.01905019, 0.017554  , 0.01865072, 0.01775305,\n",
       "        0.01865075, 0.01735435, 0.01865089, 0.01705508, 0.01825249,\n",
       "        0.0174541 , 0.01855106, 0.01765409, 0.01825175, 0.0177531 ,\n",
       "        0.01885018, 0.01725464, 0.01755345, 0.01735435, 0.01815176,\n",
       "        0.01705508, 0.01775334, 0.01775329, 0.01785293, 0.01715517,\n",
       "        0.01765351, 0.01715455, 0.01836276, 0.01736155, 0.01785271,\n",
       "        0.01745541, 0.01815228, 0.0173543 , 0.01765349, 0.017554  ,\n",
       "        0.01775336, 0.01795268, 0.01775336, 0.01795425, 0.01805248,\n",
       "        0.01795301, 0.0178535 , 0.01705511, 0.01795301, 0.01885016,\n",
       "        0.01845167, 0.01735413, 0.01875045, 0.01715541, 0.01775379,\n",
       "        0.01715498, 0.017853  , 0.01725459, 0.01845109, 0.01735427,\n",
       "        0.01765332, 0.01675611, 0.01835217, 0.01815205, 0.01904943,\n",
       "        0.01685591, 0.01725433, 0.0165565 , 0.0173542 , 0.01685522,\n",
       "        0.01805265, 0.01665454, 0.0177536 ]),\n",
       " 'std_fit_time': array([0.00100999, 0.00135659, 0.00135273, 0.00109328, 0.00101635,\n",
       "        0.00196678, 0.00100212, 0.00173913, 0.00089733, 0.00069798,\n",
       "        0.00142385, 0.00127727, 0.00079732, 0.00126498, 0.00069805,\n",
       "        0.0007465 , 0.00063056, 0.00100189, 0.00110968, 0.00204684,\n",
       "        0.00059766, 0.00079772, 0.00094031, 0.00045684, 0.00091379,\n",
       "        0.00186317, 0.00101679, 0.00119664, 0.00044649, 0.00063761,\n",
       "        0.00079784, 0.00039861, 0.00111455, 0.00116243, 0.00082819,\n",
       "        0.00182776, 0.00218292, 0.00066207, 0.00141371, 0.00066841,\n",
       "        0.00097691, 0.00148244, 0.00121743, 0.00080361, 0.00097772,\n",
       "        0.00079823, 0.00029888, 0.00066081, 0.00082881, 0.00029896,\n",
       "        0.00077875, 0.00062485, 0.00069793, 0.00069784, 0.00029837,\n",
       "        0.0011626 , 0.00063034, 0.00069716, 0.00520459, 0.00091334,\n",
       "        0.00029885, 0.00053626, 0.00101716, 0.00082815, 0.00078155,\n",
       "        0.0007784 , 0.00104132, 0.00124561, 0.00086895, 0.00068862,\n",
       "        0.00044606, 0.00076742, 0.00059862, 0.00097843, 0.00029773,\n",
       "        0.00781802, 0.00044622, 0.00094028, 0.00059754, 0.00077226,\n",
       "        0.00100174, 0.00069807, 0.00039807, 0.00094514, 0.00063791,\n",
       "        0.00100275, 0.00040609, 0.00107161, 0.00077857, 0.00077919,\n",
       "        0.00044633, 0.00077902, 0.00113248, 0.00749036, 0.00146567,\n",
       "        0.00144202, 0.00179493, 0.00142451, 0.0012173 , 0.00149276,\n",
       "        0.00135288, 0.00092061, 0.00128114, 0.00138333, 0.00205357,\n",
       "        0.00149255, 0.00154486, 0.00097712, 0.00162091, 0.00109736,\n",
       "        0.00144208, 0.00118395, 0.0015485 , 0.00163553, 0.0015957 ,\n",
       "        0.00132304, 0.00126583, 0.00137077, 0.00109658, 0.00182843,\n",
       "        0.00161111, 0.00155812, 0.00132323, 0.00146564, 0.00124552,\n",
       "        0.00127737, 0.00104097, 0.00134195, 0.001442  , 0.0012656 ,\n",
       "        0.00127733, 0.00104149, 0.00135309, 0.00126559, 0.00132359,\n",
       "        0.00126528, 0.00149294, 0.00154788, 0.00163614, 0.0011836 ,\n",
       "        0.00156114, 0.00119691, 0.00178716, 0.00148299, 0.00153228,\n",
       "        0.00137082, 0.00154814, 0.00127732, 0.00149265, 0.00165705,\n",
       "        0.00113262, 0.00139631, 0.00171589, 0.00113295, 0.00139632,\n",
       "        0.00126544, 0.00124602, 0.00150597, 0.00143203, 0.00150907,\n",
       "        0.00142705, 0.00159548, 0.00142452, 0.00118437, 0.00142475,\n",
       "        0.00132313, 0.00172748, 0.00177294, 0.00133883, 0.00220537,\n",
       "        0.00133803, 0.0013713 , 0.00121787, 0.00117987, 0.00157394,\n",
       "        0.00080414, 0.00149275, 0.00159583, 0.00153189, 0.00097776,\n",
       "        0.00188196, 0.00175328, 0.00161147, 0.00185258, 0.00190312,\n",
       "        0.00134138, 0.00124572, 0.0017956 , 0.00159561, 0.00163591,\n",
       "        0.00104165, 0.00148278, 0.00111065, 0.00111044, 0.00137126,\n",
       "        0.00163556, 0.00161344, 0.00124566]),\n",
       " 'mean_score_time': array([0.90976894, 0.87366641, 0.92134223, 0.88942513, 0.94497166,\n",
       "        0.9300123 , 1.0121923 , 0.98945391, 1.00840211, 0.9979305 ,\n",
       "        1.068343  , 1.00840285, 1.00171995, 0.97040799, 0.99563644,\n",
       "        0.97299693, 1.00222232, 0.97738557, 1.00301664, 1.04470034,\n",
       "        1.00002367, 0.98157434, 1.00541039, 0.97668691, 1.00251837,\n",
       "        1.05627465, 1.00082228, 0.97658722, 1.00610867, 0.97479191,\n",
       "        1.00969863, 0.98137496, 0.9967407 , 1.00291731, 1.02146733,\n",
       "        0.99304779, 1.04300632, 0.9961359 , 1.0153863 , 1.00800388,\n",
       "        1.02256467, 0.99842911, 1.01379139, 0.9985297 , 1.01239586,\n",
       "        0.9714021 , 0.99544327, 0.96801031, 1.00082233, 0.9682091 ,\n",
       "        0.99683323, 0.9702044 , 0.99414699, 0.96950691, 0.99473834,\n",
       "        0.9797792 , 0.99035754, 0.96711335, 0.99384079, 0.96701758,\n",
       "        0.9962383 , 0.97678721, 1.00491145, 0.97579308, 0.98985543,\n",
       "        0.96980574, 0.99285214, 0.98686011, 1.0262543 , 0.9722996 ,\n",
       "        0.99224839, 0.97549431, 0.9954366 , 0.96970935, 0.99224494,\n",
       "        0.9679107 , 0.99354177, 0.97070405, 0.99713953, 0.97299728,\n",
       "        1.00291986, 0.9755903 , 0.99453998, 0.97179723, 0.99295187,\n",
       "        0.98905466, 0.99533691, 0.98377292, 0.99703565, 0.9682101 ,\n",
       "        0.99593899, 0.96840961, 1.0019201 , 0.9732971 , 1.00012534,\n",
       "        0.97170124, 1.00112209, 0.97299783, 1.00072315, 0.97369616,\n",
       "        0.99633479, 0.9736958 , 1.00201998, 0.98366969, 0.99065425,\n",
       "        0.96900868, 0.99404137, 0.96152887, 0.99000309, 0.96831031,\n",
       "        0.98496592, 0.96531866, 0.9912488 , 0.96422129, 0.98985267,\n",
       "        0.96013217, 1.02097609, 0.97708719, 1.00501173, 0.97698729,\n",
       "        1.00680728, 0.97798469, 1.00201998, 0.98207321, 1.00750546,\n",
       "        0.97728667, 1.00830307, 0.97599027, 1.00311692, 0.97958043,\n",
       "        1.00311682, 0.98356905, 1.00551045, 0.98087697, 1.00630867,\n",
       "        0.98676136, 1.00321667, 1.00810421, 1.01987236, 0.98578286,\n",
       "        1.01339009, 0.98257227, 1.00720589, 0.98556478, 1.01319022,\n",
       "        0.9837692 , 1.00930104, 0.9865618 , 1.00521138, 0.9847671 ,\n",
       "        0.99943039, 0.97549131, 1.00072358, 0.98995268, 1.00391459,\n",
       "        0.98137555, 1.00860696, 0.98644996, 1.0126914 , 0.98337054,\n",
       "        1.00301585, 0.98735952, 1.00680707, 0.98137569, 1.00700634,\n",
       "        0.98157492, 1.00551052, 0.98606298, 1.03173907, 0.99653492,\n",
       "        1.03712633, 0.98406825, 1.01328995, 0.98496592, 1.02326307,\n",
       "        1.02815101, 1.01588438, 0.97309787, 1.00187154, 0.97618902,\n",
       "        0.99244561, 0.97245045, 0.99763169, 0.97549148, 0.99543748,\n",
       "        0.97140234, 0.99224756, 0.97878239, 0.99872878, 0.97898216,\n",
       "        1.00092292, 0.98755913, 0.99813027, 0.97449393, 0.99773152,\n",
       "        0.98007865, 0.99543765, 0.97818363]),\n",
       " 'std_score_time': array([0.018997  , 0.01213434, 0.00628752, 0.0072039 , 0.00980454,\n",
       "        0.02346715, 0.02798743, 0.01918058, 0.01919662, 0.01432273,\n",
       "        0.04290234, 0.0350362 , 0.01264797, 0.00985382, 0.01316431,\n",
       "        0.01382052, 0.01351055, 0.01369675, 0.01379769, 0.07728003,\n",
       "        0.01504694, 0.0174904 , 0.0133096 , 0.01311884, 0.00917097,\n",
       "        0.0682578 , 0.01522534, 0.01060805, 0.01849183, 0.01396419,\n",
       "        0.01443284, 0.01169923, 0.01678738, 0.03218885, 0.03083675,\n",
       "        0.0229057 , 0.02172499, 0.01029575, 0.02233904, 0.02518337,\n",
       "        0.02370258, 0.03289525, 0.01500327, 0.02688669, 0.01911169,\n",
       "        0.01704777, 0.02079222, 0.01338237, 0.02166894, 0.01280899,\n",
       "        0.01209441, 0.01232636, 0.01663885, 0.01103801, 0.01519875,\n",
       "        0.034976  , 0.01686577, 0.01131042, 0.01363336, 0.01126882,\n",
       "        0.00747563, 0.00980384, 0.01941207, 0.0135105 , 0.01425979,\n",
       "        0.01592126, 0.01214538, 0.01647421, 0.03409945, 0.01100172,\n",
       "        0.01346311, 0.02059333, 0.01562636, 0.01500307, 0.01322196,\n",
       "        0.01170109, 0.01502559, 0.015769  , 0.00839139, 0.01245821,\n",
       "        0.01400628, 0.015755  , 0.00850854, 0.00902218, 0.01109589,\n",
       "        0.04286475, 0.01270607, 0.02110381, 0.01502168, 0.01359282,\n",
       "        0.01294279, 0.01443235, 0.01264087, 0.01540841, 0.01487161,\n",
       "        0.01328464, 0.00919293, 0.01751569, 0.01350798, 0.01036526,\n",
       "        0.00956598, 0.01194366, 0.01054579, 0.04715617, 0.01547528,\n",
       "        0.01521179, 0.01488728, 0.01194683, 0.01371543, 0.01104647,\n",
       "        0.01322535, 0.01554984, 0.01672706, 0.01025644, 0.01087253,\n",
       "        0.01215791, 0.03474796, 0.01379095, 0.01064895, 0.0144819 ,\n",
       "        0.01359642, 0.01371262, 0.01262372, 0.00914114, 0.01178225,\n",
       "        0.01286868, 0.0152891 , 0.00890036, 0.01036271, 0.01425748,\n",
       "        0.01151735, 0.01017796, 0.01168841, 0.01497478, 0.01087999,\n",
       "        0.01586472, 0.01541501, 0.05150844, 0.03461564, 0.00743732,\n",
       "        0.02171126, 0.0178008 , 0.01192187, 0.01361454, 0.01868741,\n",
       "        0.01511972, 0.01347657, 0.01406755, 0.01453832, 0.01432985,\n",
       "        0.01410696, 0.00996751, 0.01234587, 0.01706655, 0.01221643,\n",
       "        0.01128371, 0.01511731, 0.01420748, 0.01376194, 0.01807884,\n",
       "        0.01234218, 0.02170377, 0.01442686, 0.01046041, 0.01406925,\n",
       "        0.00898484, 0.01518974, 0.01170806, 0.02053399, 0.02350761,\n",
       "        0.04528489, 0.01130194, 0.01474579, 0.00788074, 0.02744763,\n",
       "        0.03730729, 0.01374606, 0.01773491, 0.01377335, 0.01361441,\n",
       "        0.0129148 , 0.0123373 , 0.01465795, 0.0108288 , 0.01249976,\n",
       "        0.01250471, 0.01380112, 0.01267977, 0.01217578, 0.01212663,\n",
       "        0.01229698, 0.03372318, 0.01631939, 0.00990819, 0.01457747,\n",
       "        0.01484059, 0.01622585, 0.01017877]),\n",
       " 'param_n_neighbors': masked_array(data=[1, 1, 2, 2, 3, 3, 4, 4, 5, 5, 6, 6, 7, 7, 8, 8, 9, 9,\n",
       "                    10, 10, 11, 11, 12, 12, 13, 13, 14, 14, 15, 15, 16, 16,\n",
       "                    17, 17, 18, 18, 19, 19, 20, 20, 21, 21, 22, 22, 23, 23,\n",
       "                    24, 24, 25, 25, 26, 26, 27, 27, 28, 28, 29, 29, 30, 30,\n",
       "                    31, 31, 32, 32, 33, 33, 34, 34, 35, 35, 36, 36, 37, 37,\n",
       "                    38, 38, 39, 39, 40, 40, 41, 41, 42, 42, 43, 43, 44, 44,\n",
       "                    45, 45, 46, 46, 47, 47, 48, 48, 49, 49, 50, 50, 51, 51,\n",
       "                    52, 52, 53, 53, 54, 54, 55, 55, 56, 56, 57, 57, 58, 58,\n",
       "                    59, 59, 60, 60, 61, 61, 62, 62, 63, 63, 64, 64, 65, 65,\n",
       "                    66, 66, 67, 67, 68, 68, 69, 69, 70, 70, 71, 71, 72, 72,\n",
       "                    73, 73, 74, 74, 75, 75, 76, 76, 77, 77, 78, 78, 79, 79,\n",
       "                    80, 80, 81, 81, 82, 82, 83, 83, 84, 84, 85, 85, 86, 86,\n",
       "                    87, 87, 88, 88, 89, 89, 90, 90, 91, 91, 92, 92, 93, 93,\n",
       "                    94, 94, 95, 95, 96, 96, 97, 97, 98, 98, 99, 99],\n",
       "              mask=[False, False, False, False, False, False, False, False,\n",
       "                    False, False, False, False, False, False, False, False,\n",
       "                    False, False, False, False, False, False, False, False,\n",
       "                    False, False, False, False, False, False, False, False,\n",
       "                    False, False, False, False, False, False, False, False,\n",
       "                    False, False, False, False, False, False, False, False,\n",
       "                    False, False, False, False, False, False, False, False,\n",
       "                    False, False, False, False, False, False, False, False,\n",
       "                    False, False, False, False, False, False, False, False,\n",
       "                    False, False, False, False, False, False, False, False,\n",
       "                    False, False, False, False, False, False, False, False,\n",
       "                    False, False, False, False, False, False, False, False,\n",
       "                    False, False, False, False, False, False, False, False,\n",
       "                    False, False, False, False, False, False, False, False,\n",
       "                    False, False, False, False, False, False, False, False,\n",
       "                    False, False, False, False, False, False, False, False,\n",
       "                    False, False, False, False, False, False, False, False,\n",
       "                    False, False, False, False, False, False, False, False,\n",
       "                    False, False, False, False, False, False, False, False,\n",
       "                    False, False, False, False, False, False, False, False,\n",
       "                    False, False, False, False, False, False, False, False,\n",
       "                    False, False, False, False, False, False, False, False,\n",
       "                    False, False, False, False, False, False, False, False,\n",
       "                    False, False, False, False, False, False, False, False,\n",
       "                    False, False, False, False, False, False],\n",
       "        fill_value='?',\n",
       "             dtype=object),\n",
       " 'param_weights': masked_array(data=['uniform', 'distance', 'uniform', 'distance',\n",
       "                    'uniform', 'distance', 'uniform', 'distance',\n",
       "                    'uniform', 'distance', 'uniform', 'distance',\n",
       "                    'uniform', 'distance', 'uniform', 'distance',\n",
       "                    'uniform', 'distance', 'uniform', 'distance',\n",
       "                    'uniform', 'distance', 'uniform', 'distance',\n",
       "                    'uniform', 'distance', 'uniform', 'distance',\n",
       "                    'uniform', 'distance', 'uniform', 'distance',\n",
       "                    'uniform', 'distance', 'uniform', 'distance',\n",
       "                    'uniform', 'distance', 'uniform', 'distance',\n",
       "                    'uniform', 'distance', 'uniform', 'distance',\n",
       "                    'uniform', 'distance', 'uniform', 'distance',\n",
       "                    'uniform', 'distance', 'uniform', 'distance',\n",
       "                    'uniform', 'distance', 'uniform', 'distance',\n",
       "                    'uniform', 'distance', 'uniform', 'distance',\n",
       "                    'uniform', 'distance', 'uniform', 'distance',\n",
       "                    'uniform', 'distance', 'uniform', 'distance',\n",
       "                    'uniform', 'distance', 'uniform', 'distance',\n",
       "                    'uniform', 'distance', 'uniform', 'distance',\n",
       "                    'uniform', 'distance', 'uniform', 'distance',\n",
       "                    'uniform', 'distance', 'uniform', 'distance',\n",
       "                    'uniform', 'distance', 'uniform', 'distance',\n",
       "                    'uniform', 'distance', 'uniform', 'distance',\n",
       "                    'uniform', 'distance', 'uniform', 'distance',\n",
       "                    'uniform', 'distance', 'uniform', 'distance',\n",
       "                    'uniform', 'distance', 'uniform', 'distance',\n",
       "                    'uniform', 'distance', 'uniform', 'distance',\n",
       "                    'uniform', 'distance', 'uniform', 'distance',\n",
       "                    'uniform', 'distance', 'uniform', 'distance',\n",
       "                    'uniform', 'distance', 'uniform', 'distance',\n",
       "                    'uniform', 'distance', 'uniform', 'distance',\n",
       "                    'uniform', 'distance', 'uniform', 'distance',\n",
       "                    'uniform', 'distance', 'uniform', 'distance',\n",
       "                    'uniform', 'distance', 'uniform', 'distance',\n",
       "                    'uniform', 'distance', 'uniform', 'distance',\n",
       "                    'uniform', 'distance', 'uniform', 'distance',\n",
       "                    'uniform', 'distance', 'uniform', 'distance',\n",
       "                    'uniform', 'distance', 'uniform', 'distance',\n",
       "                    'uniform', 'distance', 'uniform', 'distance',\n",
       "                    'uniform', 'distance', 'uniform', 'distance',\n",
       "                    'uniform', 'distance', 'uniform', 'distance',\n",
       "                    'uniform', 'distance', 'uniform', 'distance',\n",
       "                    'uniform', 'distance', 'uniform', 'distance',\n",
       "                    'uniform', 'distance', 'uniform', 'distance',\n",
       "                    'uniform', 'distance', 'uniform', 'distance',\n",
       "                    'uniform', 'distance', 'uniform', 'distance',\n",
       "                    'uniform', 'distance', 'uniform', 'distance',\n",
       "                    'uniform', 'distance', 'uniform', 'distance',\n",
       "                    'uniform', 'distance', 'uniform', 'distance',\n",
       "                    'uniform', 'distance'],\n",
       "              mask=[False, False, False, False, False, False, False, False,\n",
       "                    False, False, False, False, False, False, False, False,\n",
       "                    False, False, False, False, False, False, False, False,\n",
       "                    False, False, False, False, False, False, False, False,\n",
       "                    False, False, False, False, False, False, False, False,\n",
       "                    False, False, False, False, False, False, False, False,\n",
       "                    False, False, False, False, False, False, False, False,\n",
       "                    False, False, False, False, False, False, False, False,\n",
       "                    False, False, False, False, False, False, False, False,\n",
       "                    False, False, False, False, False, False, False, False,\n",
       "                    False, False, False, False, False, False, False, False,\n",
       "                    False, False, False, False, False, False, False, False,\n",
       "                    False, False, False, False, False, False, False, False,\n",
       "                    False, False, False, False, False, False, False, False,\n",
       "                    False, False, False, False, False, False, False, False,\n",
       "                    False, False, False, False, False, False, False, False,\n",
       "                    False, False, False, False, False, False, False, False,\n",
       "                    False, False, False, False, False, False, False, False,\n",
       "                    False, False, False, False, False, False, False, False,\n",
       "                    False, False, False, False, False, False, False, False,\n",
       "                    False, False, False, False, False, False, False, False,\n",
       "                    False, False, False, False, False, False, False, False,\n",
       "                    False, False, False, False, False, False, False, False,\n",
       "                    False, False, False, False, False, False, False, False,\n",
       "                    False, False, False, False, False, False],\n",
       "        fill_value='?',\n",
       "             dtype=object),\n",
       " 'params': [{'n_neighbors': 1, 'weights': 'uniform'},\n",
       "  {'n_neighbors': 1, 'weights': 'distance'},\n",
       "  {'n_neighbors': 2, 'weights': 'uniform'},\n",
       "  {'n_neighbors': 2, 'weights': 'distance'},\n",
       "  {'n_neighbors': 3, 'weights': 'uniform'},\n",
       "  {'n_neighbors': 3, 'weights': 'distance'},\n",
       "  {'n_neighbors': 4, 'weights': 'uniform'},\n",
       "  {'n_neighbors': 4, 'weights': 'distance'},\n",
       "  {'n_neighbors': 5, 'weights': 'uniform'},\n",
       "  {'n_neighbors': 5, 'weights': 'distance'},\n",
       "  {'n_neighbors': 6, 'weights': 'uniform'},\n",
       "  {'n_neighbors': 6, 'weights': 'distance'},\n",
       "  {'n_neighbors': 7, 'weights': 'uniform'},\n",
       "  {'n_neighbors': 7, 'weights': 'distance'},\n",
       "  {'n_neighbors': 8, 'weights': 'uniform'},\n",
       "  {'n_neighbors': 8, 'weights': 'distance'},\n",
       "  {'n_neighbors': 9, 'weights': 'uniform'},\n",
       "  {'n_neighbors': 9, 'weights': 'distance'},\n",
       "  {'n_neighbors': 10, 'weights': 'uniform'},\n",
       "  {'n_neighbors': 10, 'weights': 'distance'},\n",
       "  {'n_neighbors': 11, 'weights': 'uniform'},\n",
       "  {'n_neighbors': 11, 'weights': 'distance'},\n",
       "  {'n_neighbors': 12, 'weights': 'uniform'},\n",
       "  {'n_neighbors': 12, 'weights': 'distance'},\n",
       "  {'n_neighbors': 13, 'weights': 'uniform'},\n",
       "  {'n_neighbors': 13, 'weights': 'distance'},\n",
       "  {'n_neighbors': 14, 'weights': 'uniform'},\n",
       "  {'n_neighbors': 14, 'weights': 'distance'},\n",
       "  {'n_neighbors': 15, 'weights': 'uniform'},\n",
       "  {'n_neighbors': 15, 'weights': 'distance'},\n",
       "  {'n_neighbors': 16, 'weights': 'uniform'},\n",
       "  {'n_neighbors': 16, 'weights': 'distance'},\n",
       "  {'n_neighbors': 17, 'weights': 'uniform'},\n",
       "  {'n_neighbors': 17, 'weights': 'distance'},\n",
       "  {'n_neighbors': 18, 'weights': 'uniform'},\n",
       "  {'n_neighbors': 18, 'weights': 'distance'},\n",
       "  {'n_neighbors': 19, 'weights': 'uniform'},\n",
       "  {'n_neighbors': 19, 'weights': 'distance'},\n",
       "  {'n_neighbors': 20, 'weights': 'uniform'},\n",
       "  {'n_neighbors': 20, 'weights': 'distance'},\n",
       "  {'n_neighbors': 21, 'weights': 'uniform'},\n",
       "  {'n_neighbors': 21, 'weights': 'distance'},\n",
       "  {'n_neighbors': 22, 'weights': 'uniform'},\n",
       "  {'n_neighbors': 22, 'weights': 'distance'},\n",
       "  {'n_neighbors': 23, 'weights': 'uniform'},\n",
       "  {'n_neighbors': 23, 'weights': 'distance'},\n",
       "  {'n_neighbors': 24, 'weights': 'uniform'},\n",
       "  {'n_neighbors': 24, 'weights': 'distance'},\n",
       "  {'n_neighbors': 25, 'weights': 'uniform'},\n",
       "  {'n_neighbors': 25, 'weights': 'distance'},\n",
       "  {'n_neighbors': 26, 'weights': 'uniform'},\n",
       "  {'n_neighbors': 26, 'weights': 'distance'},\n",
       "  {'n_neighbors': 27, 'weights': 'uniform'},\n",
       "  {'n_neighbors': 27, 'weights': 'distance'},\n",
       "  {'n_neighbors': 28, 'weights': 'uniform'},\n",
       "  {'n_neighbors': 28, 'weights': 'distance'},\n",
       "  {'n_neighbors': 29, 'weights': 'uniform'},\n",
       "  {'n_neighbors': 29, 'weights': 'distance'},\n",
       "  {'n_neighbors': 30, 'weights': 'uniform'},\n",
       "  {'n_neighbors': 30, 'weights': 'distance'},\n",
       "  {'n_neighbors': 31, 'weights': 'uniform'},\n",
       "  {'n_neighbors': 31, 'weights': 'distance'},\n",
       "  {'n_neighbors': 32, 'weights': 'uniform'},\n",
       "  {'n_neighbors': 32, 'weights': 'distance'},\n",
       "  {'n_neighbors': 33, 'weights': 'uniform'},\n",
       "  {'n_neighbors': 33, 'weights': 'distance'},\n",
       "  {'n_neighbors': 34, 'weights': 'uniform'},\n",
       "  {'n_neighbors': 34, 'weights': 'distance'},\n",
       "  {'n_neighbors': 35, 'weights': 'uniform'},\n",
       "  {'n_neighbors': 35, 'weights': 'distance'},\n",
       "  {'n_neighbors': 36, 'weights': 'uniform'},\n",
       "  {'n_neighbors': 36, 'weights': 'distance'},\n",
       "  {'n_neighbors': 37, 'weights': 'uniform'},\n",
       "  {'n_neighbors': 37, 'weights': 'distance'},\n",
       "  {'n_neighbors': 38, 'weights': 'uniform'},\n",
       "  {'n_neighbors': 38, 'weights': 'distance'},\n",
       "  {'n_neighbors': 39, 'weights': 'uniform'},\n",
       "  {'n_neighbors': 39, 'weights': 'distance'},\n",
       "  {'n_neighbors': 40, 'weights': 'uniform'},\n",
       "  {'n_neighbors': 40, 'weights': 'distance'},\n",
       "  {'n_neighbors': 41, 'weights': 'uniform'},\n",
       "  {'n_neighbors': 41, 'weights': 'distance'},\n",
       "  {'n_neighbors': 42, 'weights': 'uniform'},\n",
       "  {'n_neighbors': 42, 'weights': 'distance'},\n",
       "  {'n_neighbors': 43, 'weights': 'uniform'},\n",
       "  {'n_neighbors': 43, 'weights': 'distance'},\n",
       "  {'n_neighbors': 44, 'weights': 'uniform'},\n",
       "  {'n_neighbors': 44, 'weights': 'distance'},\n",
       "  {'n_neighbors': 45, 'weights': 'uniform'},\n",
       "  {'n_neighbors': 45, 'weights': 'distance'},\n",
       "  {'n_neighbors': 46, 'weights': 'uniform'},\n",
       "  {'n_neighbors': 46, 'weights': 'distance'},\n",
       "  {'n_neighbors': 47, 'weights': 'uniform'},\n",
       "  {'n_neighbors': 47, 'weights': 'distance'},\n",
       "  {'n_neighbors': 48, 'weights': 'uniform'},\n",
       "  {'n_neighbors': 48, 'weights': 'distance'},\n",
       "  {'n_neighbors': 49, 'weights': 'uniform'},\n",
       "  {'n_neighbors': 49, 'weights': 'distance'},\n",
       "  {'n_neighbors': 50, 'weights': 'uniform'},\n",
       "  {'n_neighbors': 50, 'weights': 'distance'},\n",
       "  {'n_neighbors': 51, 'weights': 'uniform'},\n",
       "  {'n_neighbors': 51, 'weights': 'distance'},\n",
       "  {'n_neighbors': 52, 'weights': 'uniform'},\n",
       "  {'n_neighbors': 52, 'weights': 'distance'},\n",
       "  {'n_neighbors': 53, 'weights': 'uniform'},\n",
       "  {'n_neighbors': 53, 'weights': 'distance'},\n",
       "  {'n_neighbors': 54, 'weights': 'uniform'},\n",
       "  {'n_neighbors': 54, 'weights': 'distance'},\n",
       "  {'n_neighbors': 55, 'weights': 'uniform'},\n",
       "  {'n_neighbors': 55, 'weights': 'distance'},\n",
       "  {'n_neighbors': 56, 'weights': 'uniform'},\n",
       "  {'n_neighbors': 56, 'weights': 'distance'},\n",
       "  {'n_neighbors': 57, 'weights': 'uniform'},\n",
       "  {'n_neighbors': 57, 'weights': 'distance'},\n",
       "  {'n_neighbors': 58, 'weights': 'uniform'},\n",
       "  {'n_neighbors': 58, 'weights': 'distance'},\n",
       "  {'n_neighbors': 59, 'weights': 'uniform'},\n",
       "  {'n_neighbors': 59, 'weights': 'distance'},\n",
       "  {'n_neighbors': 60, 'weights': 'uniform'},\n",
       "  {'n_neighbors': 60, 'weights': 'distance'},\n",
       "  {'n_neighbors': 61, 'weights': 'uniform'},\n",
       "  {'n_neighbors': 61, 'weights': 'distance'},\n",
       "  {'n_neighbors': 62, 'weights': 'uniform'},\n",
       "  {'n_neighbors': 62, 'weights': 'distance'},\n",
       "  {'n_neighbors': 63, 'weights': 'uniform'},\n",
       "  {'n_neighbors': 63, 'weights': 'distance'},\n",
       "  {'n_neighbors': 64, 'weights': 'uniform'},\n",
       "  {'n_neighbors': 64, 'weights': 'distance'},\n",
       "  {'n_neighbors': 65, 'weights': 'uniform'},\n",
       "  {'n_neighbors': 65, 'weights': 'distance'},\n",
       "  {'n_neighbors': 66, 'weights': 'uniform'},\n",
       "  {'n_neighbors': 66, 'weights': 'distance'},\n",
       "  {'n_neighbors': 67, 'weights': 'uniform'},\n",
       "  {'n_neighbors': 67, 'weights': 'distance'},\n",
       "  {'n_neighbors': 68, 'weights': 'uniform'},\n",
       "  {'n_neighbors': 68, 'weights': 'distance'},\n",
       "  {'n_neighbors': 69, 'weights': 'uniform'},\n",
       "  {'n_neighbors': 69, 'weights': 'distance'},\n",
       "  {'n_neighbors': 70, 'weights': 'uniform'},\n",
       "  {'n_neighbors': 70, 'weights': 'distance'},\n",
       "  {'n_neighbors': 71, 'weights': 'uniform'},\n",
       "  {'n_neighbors': 71, 'weights': 'distance'},\n",
       "  {'n_neighbors': 72, 'weights': 'uniform'},\n",
       "  {'n_neighbors': 72, 'weights': 'distance'},\n",
       "  {'n_neighbors': 73, 'weights': 'uniform'},\n",
       "  {'n_neighbors': 73, 'weights': 'distance'},\n",
       "  {'n_neighbors': 74, 'weights': 'uniform'},\n",
       "  {'n_neighbors': 74, 'weights': 'distance'},\n",
       "  {'n_neighbors': 75, 'weights': 'uniform'},\n",
       "  {'n_neighbors': 75, 'weights': 'distance'},\n",
       "  {'n_neighbors': 76, 'weights': 'uniform'},\n",
       "  {'n_neighbors': 76, 'weights': 'distance'},\n",
       "  {'n_neighbors': 77, 'weights': 'uniform'},\n",
       "  {'n_neighbors': 77, 'weights': 'distance'},\n",
       "  {'n_neighbors': 78, 'weights': 'uniform'},\n",
       "  {'n_neighbors': 78, 'weights': 'distance'},\n",
       "  {'n_neighbors': 79, 'weights': 'uniform'},\n",
       "  {'n_neighbors': 79, 'weights': 'distance'},\n",
       "  {'n_neighbors': 80, 'weights': 'uniform'},\n",
       "  {'n_neighbors': 80, 'weights': 'distance'},\n",
       "  {'n_neighbors': 81, 'weights': 'uniform'},\n",
       "  {'n_neighbors': 81, 'weights': 'distance'},\n",
       "  {'n_neighbors': 82, 'weights': 'uniform'},\n",
       "  {'n_neighbors': 82, 'weights': 'distance'},\n",
       "  {'n_neighbors': 83, 'weights': 'uniform'},\n",
       "  {'n_neighbors': 83, 'weights': 'distance'},\n",
       "  {'n_neighbors': 84, 'weights': 'uniform'},\n",
       "  {'n_neighbors': 84, 'weights': 'distance'},\n",
       "  {'n_neighbors': 85, 'weights': 'uniform'},\n",
       "  {'n_neighbors': 85, 'weights': 'distance'},\n",
       "  {'n_neighbors': 86, 'weights': 'uniform'},\n",
       "  {'n_neighbors': 86, 'weights': 'distance'},\n",
       "  {'n_neighbors': 87, 'weights': 'uniform'},\n",
       "  {'n_neighbors': 87, 'weights': 'distance'},\n",
       "  {'n_neighbors': 88, 'weights': 'uniform'},\n",
       "  {'n_neighbors': 88, 'weights': 'distance'},\n",
       "  {'n_neighbors': 89, 'weights': 'uniform'},\n",
       "  {'n_neighbors': 89, 'weights': 'distance'},\n",
       "  {'n_neighbors': 90, 'weights': 'uniform'},\n",
       "  {'n_neighbors': 90, 'weights': 'distance'},\n",
       "  {'n_neighbors': 91, 'weights': 'uniform'},\n",
       "  {'n_neighbors': 91, 'weights': 'distance'},\n",
       "  {'n_neighbors': 92, 'weights': 'uniform'},\n",
       "  {'n_neighbors': 92, 'weights': 'distance'},\n",
       "  {'n_neighbors': 93, 'weights': 'uniform'},\n",
       "  {'n_neighbors': 93, 'weights': 'distance'},\n",
       "  {'n_neighbors': 94, 'weights': 'uniform'},\n",
       "  {'n_neighbors': 94, 'weights': 'distance'},\n",
       "  {'n_neighbors': 95, 'weights': 'uniform'},\n",
       "  {'n_neighbors': 95, 'weights': 'distance'},\n",
       "  {'n_neighbors': 96, 'weights': 'uniform'},\n",
       "  {'n_neighbors': 96, 'weights': 'distance'},\n",
       "  {'n_neighbors': 97, 'weights': 'uniform'},\n",
       "  {'n_neighbors': 97, 'weights': 'distance'},\n",
       "  {'n_neighbors': 98, 'weights': 'uniform'},\n",
       "  {'n_neighbors': 98, 'weights': 'distance'},\n",
       "  {'n_neighbors': 99, 'weights': 'uniform'},\n",
       "  {'n_neighbors': 99, 'weights': 'distance'}],\n",
       " 'split0_test_score': array([0.16607774, 0.16607774, 0.10777385, 0.16607774, 0.10777385,\n",
       "        0.16784452, 0.11219081, 0.15989399, 0.10070671, 0.14929329,\n",
       "        0.09187279, 0.1360424 , 0.0909894 , 0.13074205, 0.09187279,\n",
       "        0.13074205, 0.08568905, 0.11837456, 0.08657244, 0.11660777,\n",
       "        0.0909894 , 0.12190813, 0.08922261, 0.11925795, 0.08833922,\n",
       "        0.11130742, 0.08215548, 0.10689046, 0.0795053 , 0.10600707,\n",
       "        0.07508834, 0.10159011, 0.07508834, 0.09893993, 0.07420495,\n",
       "        0.09540636, 0.07155477, 0.09363958, 0.07067138, 0.09187279,\n",
       "        0.07155477, 0.09187279, 0.06890459, 0.08922261, 0.06978799,\n",
       "        0.08833922, 0.07332155, 0.08833922, 0.07508834, 0.09275618,\n",
       "        0.07155477, 0.09275618, 0.07420495, 0.09275618, 0.07773852,\n",
       "        0.09628975, 0.07862191, 0.09893993, 0.07773852, 0.09805654,\n",
       "        0.07773852, 0.09717314, 0.07773852, 0.09717314, 0.0795053 ,\n",
       "        0.09717314, 0.07862191, 0.09452297, 0.07508834, 0.09363958,\n",
       "        0.08038869, 0.09628975, 0.07862191, 0.09452297, 0.07243816,\n",
       "        0.08922261, 0.07597173, 0.09275618, 0.07685512, 0.09275618,\n",
       "        0.0795053 , 0.09540636, 0.08038869, 0.09717314, 0.08392226,\n",
       "        0.09540636, 0.08215548, 0.09805654, 0.07685512, 0.09540636,\n",
       "        0.07332155, 0.09275618, 0.07243816, 0.09187279, 0.07508834,\n",
       "        0.08922261, 0.07597173, 0.09010601, 0.07685512, 0.0909894 ,\n",
       "        0.0795053 , 0.0909894 , 0.08127208, 0.09010601, 0.07862191,\n",
       "        0.0909894 , 0.07685512, 0.0909894 , 0.07685512, 0.09275618,\n",
       "        0.07508834, 0.09010601, 0.07332155, 0.08833922, 0.07420495,\n",
       "        0.09363958, 0.07685512, 0.09628975, 0.07243816, 0.09452297,\n",
       "        0.07332155, 0.0909894 , 0.0680212 , 0.08568905, 0.06978799,\n",
       "        0.08480565, 0.06978799, 0.08303887, 0.0680212 , 0.08303887,\n",
       "        0.06360424, 0.07773852, 0.06183746, 0.07773852, 0.06272085,\n",
       "        0.07508834, 0.06360424, 0.07597173, 0.06183746, 0.07862191,\n",
       "        0.06537102, 0.08303887, 0.06537102, 0.08127208, 0.07067138,\n",
       "        0.08657244, 0.07243816, 0.08922261, 0.07155477, 0.08833922,\n",
       "        0.07155477, 0.08657244, 0.06890459, 0.08568905, 0.06978799,\n",
       "        0.08568905, 0.06978799, 0.08745583, 0.0680212 , 0.08480565,\n",
       "        0.06537102, 0.08215548, 0.06625442, 0.08303887, 0.0680212 ,\n",
       "        0.08480565, 0.06448763, 0.0795053 , 0.06890459, 0.08657244,\n",
       "        0.07155477, 0.08568905, 0.06978799, 0.08303887, 0.0680212 ,\n",
       "        0.08480565, 0.0680212 , 0.08127208, 0.06713781, 0.08127208,\n",
       "        0.06537102, 0.08127208, 0.07067138, 0.08568905, 0.06537102,\n",
       "        0.08038869, 0.06625442, 0.08127208, 0.06537102, 0.08215548,\n",
       "        0.06978799, 0.08215548, 0.07332155, 0.08480565, 0.06978799,\n",
       "        0.08215548, 0.06978799, 0.08127208]),\n",
       " 'split1_test_score': array([0.16342756, 0.16342756, 0.11572438, 0.16342756, 0.10070671,\n",
       "        0.11130742, 0.11660777, 0.16166078, 0.11130742, 0.14840989,\n",
       "        0.10070671, 0.1369258 , 0.10424028, 0.13339223, 0.10777385,\n",
       "        0.13515901, 0.09363958, 0.11925795, 0.09363958, 0.11749117,\n",
       "        0.09628975, 0.12014134, 0.09010601, 0.11660777, 0.09452297,\n",
       "        0.12279152, 0.09893993, 0.12632509, 0.09275618, 0.11749117,\n",
       "        0.09363958, 0.11837456, 0.09187279, 0.11660777, 0.0909894 ,\n",
       "        0.1130742 , 0.08657244, 0.11042403, 0.08745583, 0.11042403,\n",
       "        0.08922261, 0.11660777, 0.08568905, 0.11219081, 0.08657244,\n",
       "        0.11130742, 0.08392226, 0.11219081, 0.08568905, 0.1130742 ,\n",
       "        0.08303887, 0.11042403, 0.0795053 , 0.10512367, 0.07420495,\n",
       "        0.10159011, 0.07862191, 0.10335689, 0.07862191, 0.10070671,\n",
       "        0.07773852, 0.09982332, 0.07862191, 0.10070671, 0.0795053 ,\n",
       "        0.10335689, 0.0795053 , 0.1024735 , 0.08127208, 0.1024735 ,\n",
       "        0.07508834, 0.09805654, 0.07508834, 0.09893993, 0.07597173,\n",
       "        0.09805654, 0.07597173, 0.09805654, 0.07508834, 0.09805654,\n",
       "        0.07243816, 0.09187279, 0.07685512, 0.09540636, 0.08127208,\n",
       "        0.10070671, 0.0795053 , 0.10070671, 0.0795053 , 0.09893993,\n",
       "        0.07597173, 0.09452297, 0.07597173, 0.09540636, 0.06890459,\n",
       "        0.08745583, 0.06713781, 0.08568905, 0.06978799, 0.08922261,\n",
       "        0.07067138, 0.08745583, 0.0680212 , 0.08922261, 0.07067138,\n",
       "        0.08922261, 0.07155477, 0.09452297, 0.06978799, 0.09275618,\n",
       "        0.06625442, 0.09187279, 0.07067138, 0.0909894 , 0.07243816,\n",
       "        0.09275618, 0.06978799, 0.09187279, 0.07067138, 0.09187279,\n",
       "        0.07243816, 0.0909894 , 0.06978799, 0.09010601, 0.06978799,\n",
       "        0.08833922, 0.06890459, 0.08922261, 0.0680212 , 0.08657244,\n",
       "        0.06537102, 0.08127208, 0.06537102, 0.08568905, 0.0680212 ,\n",
       "        0.08657244, 0.0680212 , 0.08833922, 0.06890459, 0.08745583,\n",
       "        0.07067138, 0.08657244, 0.06978799, 0.08745583, 0.07420495,\n",
       "        0.09275618, 0.07597173, 0.09010601, 0.07243816, 0.09187279,\n",
       "        0.07155477, 0.08922261, 0.06713781, 0.08833922, 0.0680212 ,\n",
       "        0.0909894 , 0.06713781, 0.08833922, 0.06625442, 0.08745583,\n",
       "        0.06537102, 0.08215548, 0.06537102, 0.08215548, 0.06713781,\n",
       "        0.08392226, 0.0680212 , 0.08303887, 0.06713781, 0.08480565,\n",
       "        0.0680212 , 0.08303887, 0.07155477, 0.08480565, 0.07508834,\n",
       "        0.08833922, 0.07420495, 0.08833922, 0.07332155, 0.08568905,\n",
       "        0.06978799, 0.08392226, 0.07067138, 0.08480565, 0.06890459,\n",
       "        0.08568905, 0.06978799, 0.08568905, 0.0680212 , 0.08392226,\n",
       "        0.06625442, 0.08480565, 0.06713781, 0.08568905, 0.06625442,\n",
       "        0.08127208, 0.06360424, 0.0795053 ]),\n",
       " 'split2_test_score': array([0.16784452, 0.16784452, 0.11219081, 0.16872792, 0.09717314,\n",
       "        0.10865724, 0.11572438, 0.16607774, 0.11219081, 0.16342756,\n",
       "        0.10335689, 0.15371025, 0.09805654, 0.14487633, 0.09275618,\n",
       "        0.13339223, 0.0909894 , 0.12720848, 0.09187279, 0.12720848,\n",
       "        0.08480565, 0.11925795, 0.08480565, 0.11837456, 0.08480565,\n",
       "        0.12014134, 0.08392226, 0.11837456, 0.07862191, 0.1130742 ,\n",
       "        0.08392226, 0.1130742 , 0.08480565, 0.11484099, 0.08657244,\n",
       "        0.1139576 , 0.0795053 , 0.10600707, 0.07773852, 0.10424028,\n",
       "        0.07685512, 0.1024735 , 0.07420495, 0.09982332, 0.07773852,\n",
       "        0.10512367, 0.08038869, 0.10689046, 0.07862191, 0.1024735 ,\n",
       "        0.08038869, 0.10689046, 0.08038869, 0.10600707, 0.07597173,\n",
       "        0.10512367, 0.07420495, 0.10424028, 0.08038869, 0.11042403,\n",
       "        0.07773852, 0.10777385, 0.07773852, 0.1024735 , 0.0795053 ,\n",
       "        0.10335689, 0.07773852, 0.09982332, 0.07597173, 0.09452297,\n",
       "        0.07773852, 0.09628975, 0.07773852, 0.09717314, 0.07420495,\n",
       "        0.09717314, 0.07773852, 0.10159011, 0.07508834, 0.09893993,\n",
       "        0.07243816, 0.09363958, 0.07067138, 0.09717314, 0.07067138,\n",
       "        0.09275618, 0.06890459, 0.0909894 , 0.07332155, 0.09805654,\n",
       "        0.07332155, 0.09717314, 0.07067138, 0.09363958, 0.06890459,\n",
       "        0.09275618, 0.07332155, 0.09275618, 0.07332155, 0.09540636,\n",
       "        0.07067138, 0.09717314, 0.0680212 , 0.09187279, 0.06713781,\n",
       "        0.09010601, 0.06537102, 0.09010601, 0.06890459, 0.09010601,\n",
       "        0.06978799, 0.09540636, 0.06890459, 0.0909894 , 0.0680212 ,\n",
       "        0.08745583, 0.07243816, 0.09452297, 0.07420495, 0.09187279,\n",
       "        0.07332155, 0.08922261, 0.07420495, 0.08833922, 0.07420495,\n",
       "        0.08745583, 0.07597173, 0.09010601, 0.07508834, 0.09187279,\n",
       "        0.07597173, 0.0909894 , 0.07243816, 0.0909894 , 0.07332155,\n",
       "        0.09275618, 0.07243816, 0.0909894 , 0.07508834, 0.08745583,\n",
       "        0.07685512, 0.09187279, 0.0795053 , 0.09275618, 0.08038869,\n",
       "        0.09187279, 0.08127208, 0.09275618, 0.08215548, 0.09452297,\n",
       "        0.08303887, 0.09540636, 0.08303887, 0.09893993, 0.08303887,\n",
       "        0.09452297, 0.08392226, 0.09628975, 0.08392226, 0.09628975,\n",
       "        0.0795053 , 0.09010601, 0.07862191, 0.09010601, 0.07685512,\n",
       "        0.08745583, 0.07420495, 0.08480565, 0.07332155, 0.08568905,\n",
       "        0.07155477, 0.08215548, 0.07243816, 0.08215548, 0.07155477,\n",
       "        0.08303887, 0.07243816, 0.08127208, 0.07332155, 0.08215548,\n",
       "        0.07597173, 0.08922261, 0.07243816, 0.08127208, 0.07332155,\n",
       "        0.08392226, 0.07243816, 0.08392226, 0.07155477, 0.08038869,\n",
       "        0.07243816, 0.08745583, 0.07420495, 0.08657244, 0.07243816,\n",
       "        0.08568905, 0.07243816, 0.08303887]),\n",
       " 'split3_test_score': array([0.19434629, 0.19434629, 0.1245583 , 0.19434629, 0.10512367,\n",
       "        0.12014134, 0.13515901, 0.19081272, 0.13427562, 0.18639576,\n",
       "        0.12279152, 0.16519435, 0.1130742 , 0.15017668, 0.12279152,\n",
       "        0.15547703, 0.12014134, 0.15547703, 0.11572438, 0.14929329,\n",
       "        0.11572438, 0.1475265 , 0.11749117, 0.15017668, 0.1139576 ,\n",
       "        0.1475265 , 0.11130742, 0.14222615, 0.11042403, 0.14045936,\n",
       "        0.10865724, 0.13515901, 0.10954064, 0.14399293, 0.10689046,\n",
       "        0.13515901, 0.10865724, 0.13250883, 0.09982332, 0.12190813,\n",
       "        0.10424028, 0.1254417 , 0.09717314, 0.12014134, 0.10424028,\n",
       "        0.1254417 , 0.09805654, 0.11925795, 0.10070671, 0.12190813,\n",
       "        0.09893993, 0.11484099, 0.10335689, 0.11925795, 0.1024735 ,\n",
       "        0.11837456, 0.10512367, 0.12102473, 0.09893993, 0.11660777,\n",
       "        0.09628975, 0.11484099, 0.09717314, 0.11219081, 0.09363958,\n",
       "        0.1130742 , 0.08922261, 0.10777385, 0.09452297, 0.11484099,\n",
       "        0.09717314, 0.1130742 , 0.09805654, 0.11837456, 0.09717314,\n",
       "        0.1130742 , 0.09363958, 0.10954064, 0.09010601, 0.10600707,\n",
       "        0.08922261, 0.10512367, 0.08657244, 0.10070671, 0.08657244,\n",
       "        0.09982332, 0.08568905, 0.10159011, 0.08745583, 0.09717314,\n",
       "        0.08657244, 0.09893993, 0.08657244, 0.10070671, 0.09275618,\n",
       "        0.10600707, 0.08922261, 0.1024735 , 0.08745583, 0.10159011,\n",
       "        0.08392226, 0.10159011, 0.08568905, 0.10070671, 0.0795053 ,\n",
       "        0.09805654, 0.08127208, 0.09540636, 0.08303887, 0.09805654,\n",
       "        0.08392226, 0.10070671, 0.08568905, 0.1024735 , 0.08303887,\n",
       "        0.09893993, 0.08127208, 0.09363958, 0.08303887, 0.09540636,\n",
       "        0.08215548, 0.09540636, 0.08303887, 0.09275618, 0.08303887,\n",
       "        0.09363958, 0.08392226, 0.09628975, 0.08568905, 0.09893993,\n",
       "        0.0795053 , 0.09452297, 0.07773852, 0.09363958, 0.07773852,\n",
       "        0.09452297, 0.07685512, 0.09187279, 0.07685512, 0.09187279,\n",
       "        0.0795053 , 0.09540636, 0.07773852, 0.09363958, 0.0795053 ,\n",
       "        0.09275618, 0.07862191, 0.09275618, 0.07685512, 0.0909894 ,\n",
       "        0.07685512, 0.0909894 , 0.07685512, 0.08922261, 0.07685512,\n",
       "        0.08922261, 0.07597173, 0.09010601, 0.07508834, 0.08922261,\n",
       "        0.07420495, 0.08745583, 0.07243816, 0.08833922, 0.07155477,\n",
       "        0.08215548, 0.07155477, 0.08215548, 0.07155477, 0.08303887,\n",
       "        0.07420495, 0.08480565, 0.07243816, 0.08303887, 0.07155477,\n",
       "        0.08038869, 0.07420495, 0.08303887, 0.07862191, 0.08568905,\n",
       "        0.08038869, 0.08922261, 0.08038869, 0.08568905, 0.07685512,\n",
       "        0.08568905, 0.07773852, 0.08568905, 0.08127208, 0.08745583,\n",
       "        0.08038869, 0.08657244, 0.0795053 , 0.08568905, 0.08038869,\n",
       "        0.08745583, 0.07862191, 0.08568905]),\n",
       " 'split4_test_score': array([0.1821397 , 0.1821397 , 0.10786914, 0.1821397 , 0.08841733,\n",
       "        0.1025641 , 0.10963749, 0.17152962, 0.10344828, 0.16268789,\n",
       "        0.09725906, 0.15384615, 0.09018568, 0.14412025, 0.09637489,\n",
       "        0.13616269, 0.08753316, 0.12466844, 0.08664898, 0.11671088,\n",
       "        0.0928382 , 0.12466844, 0.08841733, 0.12378426, 0.08753316,\n",
       "        0.12290009, 0.08488064, 0.12466844, 0.09106985, 0.1290893 ,\n",
       "        0.09195402, 0.12732095, 0.09195402, 0.12290009, 0.09106985,\n",
       "        0.11847922, 0.09106985, 0.11405836, 0.09018568, 0.11140584,\n",
       "        0.09372237, 0.1158267 , 0.09460654, 0.11759505, 0.09549072,\n",
       "        0.11847922, 0.0928382 , 0.11671088, 0.08664898, 0.11052166,\n",
       "        0.08222812, 0.1025641 , 0.08311229, 0.1025641 , 0.08399646,\n",
       "        0.10433245, 0.07515473, 0.09549072, 0.07515473, 0.09460654,\n",
       "        0.08045977, 0.09637489, 0.07869142, 0.09549072, 0.07869142,\n",
       "        0.09902741, 0.07869142, 0.09991158, 0.08045977, 0.09814324,\n",
       "        0.07869142, 0.09814324, 0.07780725, 0.09814324, 0.0795756 ,\n",
       "        0.09902741, 0.07780725, 0.09725906, 0.07869142, 0.09549072,\n",
       "        0.07780725, 0.09549072, 0.07515473, 0.09372237, 0.07780725,\n",
       "        0.09549072, 0.07692308, 0.09549072, 0.07692308, 0.09902741,\n",
       "        0.07515473, 0.09814324, 0.0760389 , 0.09902741, 0.07515473,\n",
       "        0.09725906, 0.0795756 , 0.09991158, 0.08222812, 0.09991158,\n",
       "        0.08134394, 0.10079576, 0.07869142, 0.09902741, 0.07869142,\n",
       "        0.09814324, 0.07515473, 0.09195402, 0.07692308, 0.09018568,\n",
       "        0.0760389 , 0.09195402, 0.0760389 , 0.09195402, 0.07338638,\n",
       "        0.08841733, 0.07073386, 0.08841733, 0.06984969, 0.08576481,\n",
       "        0.07161804, 0.08399646, 0.07073386, 0.08753316, 0.06896552,\n",
       "        0.08664898, 0.06896552, 0.08311229, 0.06984969, 0.08311229,\n",
       "        0.06808134, 0.0795756 , 0.06542882, 0.07692308, 0.06896552,\n",
       "        0.08311229, 0.06984969, 0.0795756 , 0.06542882, 0.08045977,\n",
       "        0.066313  , 0.08045977, 0.06808134, 0.08134394, 0.06719717,\n",
       "        0.0795756 , 0.066313  , 0.07780725, 0.06896552, 0.08311229,\n",
       "        0.06984969, 0.08222812, 0.06984969, 0.08222812, 0.06896552,\n",
       "        0.08045977, 0.06542882, 0.07692308, 0.06366048, 0.07692308,\n",
       "        0.0627763 , 0.07427056, 0.06454465, 0.0760389 , 0.06366048,\n",
       "        0.07515473, 0.0627763 , 0.0760389 , 0.06454465, 0.0760389 ,\n",
       "        0.066313  , 0.07780725, 0.06454465, 0.0795756 , 0.066313  ,\n",
       "        0.08222812, 0.06542882, 0.07869142, 0.066313  , 0.07780725,\n",
       "        0.066313  , 0.0795756 , 0.06808134, 0.08311229, 0.06719717,\n",
       "        0.08134394, 0.066313  , 0.08045977, 0.066313  , 0.07869142,\n",
       "        0.066313  , 0.07515473, 0.06719717, 0.07692308, 0.066313  ,\n",
       "        0.0760389 , 0.06719717, 0.07869142]),\n",
       " 'split5_test_score': array([0.1821397 , 0.1821397 , 0.10698497, 0.1821397 , 0.09106985,\n",
       "        0.10344828, 0.11317418, 0.16534041, 0.10344828, 0.14942529,\n",
       "        0.11229001, 0.14942529, 0.10963749, 0.14058355, 0.10698497,\n",
       "        0.13439434, 0.0928382 , 0.12555261, 0.09814324, 0.1290893 ,\n",
       "        0.09549072, 0.12555261, 0.0928382 , 0.12378426, 0.08576481,\n",
       "        0.11759505, 0.08664898, 0.11847922, 0.08311229, 0.11140584,\n",
       "        0.08399646, 0.11671088, 0.08488064, 0.11671088, 0.08311229,\n",
       "        0.10963749, 0.0795756 , 0.10698497, 0.07869142, 0.1061008 ,\n",
       "        0.08399646, 0.11052166, 0.08399646, 0.10963749, 0.07515473,\n",
       "        0.1025641 , 0.07515473, 0.10167993, 0.07427056, 0.10167993,\n",
       "        0.07250221, 0.09637489, 0.07427056, 0.09902741, 0.07250221,\n",
       "        0.09549072, 0.07427056, 0.10079576, 0.07515473, 0.10079576,\n",
       "        0.07427056, 0.10079576, 0.07427056, 0.09902741, 0.07427056,\n",
       "        0.09814324, 0.06984969, 0.09549072, 0.07161804, 0.09460654,\n",
       "        0.06808134, 0.09018568, 0.06719717, 0.08841733, 0.06542882,\n",
       "        0.08576481, 0.06542882, 0.08222812, 0.066313  , 0.08753316,\n",
       "        0.06808134, 0.08488064, 0.06808134, 0.08576481, 0.07073386,\n",
       "        0.08664898, 0.07073386, 0.08399646, 0.07250221, 0.08664898,\n",
       "        0.07161804, 0.08488064, 0.06984969, 0.08576481, 0.066313  ,\n",
       "        0.08134394, 0.07073386, 0.08311229, 0.07250221, 0.08576481,\n",
       "        0.06808134, 0.08222812, 0.06719717, 0.08134394, 0.06808134,\n",
       "        0.08311229, 0.06896552, 0.08576481, 0.06808134, 0.08488064,\n",
       "        0.06984969, 0.09549072, 0.06896552, 0.0893015 , 0.06896552,\n",
       "        0.0928382 , 0.06896552, 0.08664898, 0.06719717, 0.0928382 ,\n",
       "        0.06366048, 0.08576481, 0.06366048, 0.08311229, 0.06189213,\n",
       "        0.08134394, 0.06454465, 0.08134394, 0.06719717, 0.08134394,\n",
       "        0.066313  , 0.08222812, 0.06454465, 0.08045977, 0.06366048,\n",
       "        0.0795756 , 0.06366048, 0.08134394, 0.06366048, 0.07869142,\n",
       "        0.06366048, 0.07250221, 0.06542882, 0.0760389 , 0.0627763 ,\n",
       "        0.07427056, 0.06012378, 0.07073386, 0.05923961, 0.07515473,\n",
       "        0.06012378, 0.0760389 , 0.05835544, 0.07338638, 0.05658709,\n",
       "        0.07161804, 0.05747126, 0.07161804, 0.05570292, 0.07250221,\n",
       "        0.05481874, 0.07338638, 0.05923961, 0.0760389 , 0.05747126,\n",
       "        0.07338638, 0.05658709, 0.07338638, 0.05481874, 0.06896552,\n",
       "        0.05570292, 0.07073386, 0.05481874, 0.06719717, 0.05481874,\n",
       "        0.06719717, 0.05481874, 0.066313  , 0.05481874, 0.06896552,\n",
       "        0.05481874, 0.06896552, 0.05481874, 0.06984969, 0.05835544,\n",
       "        0.07161804, 0.05658709, 0.07250221, 0.05570292, 0.06808134,\n",
       "        0.05570292, 0.06896552, 0.05481874, 0.066313  , 0.05481874,\n",
       "        0.06896552, 0.05216622, 0.06808134]),\n",
       " 'split6_test_score': array([0.17683466, 0.17683466, 0.10698497, 0.17683466, 0.09106985,\n",
       "        0.1025641 , 0.10786914, 0.16091954, 0.11052166, 0.16180371,\n",
       "        0.09814324, 0.14058355, 0.09195402, 0.13262599, 0.08664898,\n",
       "        0.12290009, 0.09814324, 0.12997347, 0.09460654, 0.12113174,\n",
       "        0.08753316, 0.11494253, 0.08222812, 0.10963749, 0.08576481,\n",
       "        0.10786914, 0.08222812, 0.10786914, 0.0795756 , 0.10521662,\n",
       "        0.08753316, 0.10963749, 0.0893015 , 0.11317418, 0.08841733,\n",
       "        0.10963749, 0.08841733, 0.10875332, 0.08222812, 0.10433245,\n",
       "        0.08488064, 0.10698497, 0.08664898, 0.10875332, 0.08488064,\n",
       "        0.10698497, 0.08134394, 0.10167993, 0.07427056, 0.09549072,\n",
       "        0.07161804, 0.09460654, 0.07692308, 0.09991158, 0.07692308,\n",
       "        0.09725906, 0.07692308, 0.09460654, 0.07515473, 0.09195402,\n",
       "        0.07780725, 0.09460654, 0.07515473, 0.0928382 , 0.07250221,\n",
       "        0.09018568, 0.06984969, 0.08664898, 0.06896552, 0.08488064,\n",
       "        0.06808134, 0.08488064, 0.07073386, 0.08576481, 0.06984969,\n",
       "        0.08576481, 0.07161804, 0.08841733, 0.06719717, 0.08488064,\n",
       "        0.066313  , 0.08134394, 0.06012378, 0.07692308, 0.05835544,\n",
       "        0.0760389 , 0.05658709, 0.07338638, 0.05923961, 0.0760389 ,\n",
       "        0.05835544, 0.07427056, 0.05835544, 0.07161804, 0.06189213,\n",
       "        0.07250221, 0.06012378, 0.07515473, 0.05923961, 0.07250221,\n",
       "        0.05747126, 0.06984969, 0.05570292, 0.07073386, 0.05481874,\n",
       "        0.06984969, 0.05393457, 0.07161804, 0.05658709, 0.07515473,\n",
       "        0.05747126, 0.06984969, 0.05923961, 0.07250221, 0.06366048,\n",
       "        0.07515473, 0.06189213, 0.0760389 , 0.06100796, 0.07250221,\n",
       "        0.06100796, 0.07161804, 0.06189213, 0.07250221, 0.06100796,\n",
       "        0.07427056, 0.05835544, 0.07073386, 0.05658709, 0.06984969,\n",
       "        0.05747126, 0.07073386, 0.05747126, 0.07073386, 0.05835544,\n",
       "        0.06984969, 0.05923961, 0.07073386, 0.06189213, 0.07515473,\n",
       "        0.06189213, 0.07338638, 0.06366048, 0.07427056, 0.06366048,\n",
       "        0.07250221, 0.0627763 , 0.07338638, 0.06542882, 0.07250221,\n",
       "        0.06542882, 0.07780725, 0.06100796, 0.07073386, 0.05658709,\n",
       "        0.066313  , 0.06012378, 0.06896552, 0.06366048, 0.07515473,\n",
       "        0.05835544, 0.06984969, 0.05923961, 0.06719717, 0.05570292,\n",
       "        0.066313  , 0.05747126, 0.07073386, 0.05658709, 0.06984969,\n",
       "        0.05393457, 0.066313  , 0.05481874, 0.066313  , 0.05128205,\n",
       "        0.06542882, 0.05128205, 0.066313  , 0.05128205, 0.066313  ,\n",
       "        0.05216622, 0.066313  , 0.0530504 , 0.06896552, 0.05393457,\n",
       "        0.06896552, 0.05570292, 0.06808134, 0.0530504 , 0.06454465,\n",
       "        0.05747126, 0.06719717, 0.06012378, 0.07161804, 0.06012378,\n",
       "        0.07250221, 0.06012378, 0.07250221]),\n",
       " 'split7_test_score': array([0.18479222, 0.18479222, 0.12024757, 0.18479222, 0.1061008 ,\n",
       "        0.12201592, 0.12201592, 0.16445623, 0.11229001, 0.15296198,\n",
       "        0.10963749, 0.14854111, 0.10433245, 0.14058355, 0.10521662,\n",
       "        0.13881521, 0.10079576, 0.13881521, 0.09902741, 0.13704686,\n",
       "        0.09902741, 0.13616269, 0.09637489, 0.12732095, 0.09106985,\n",
       "        0.12290009, 0.08841733, 0.1193634 , 0.09372237, 0.11847922,\n",
       "        0.09018568, 0.11671088, 0.09195402, 0.1158267 , 0.09549072,\n",
       "        0.11847922, 0.09372237, 0.11671088, 0.09018568, 0.11671088,\n",
       "        0.09106985, 0.11671088, 0.09372237, 0.11671088, 0.08753316,\n",
       "        0.11140584, 0.08311229, 0.10786914, 0.08311229, 0.10963749,\n",
       "        0.08311229, 0.10698497, 0.08753316, 0.11317418, 0.09106985,\n",
       "        0.11671088, 0.09195402, 0.11494253, 0.09195402, 0.11405836,\n",
       "        0.09195402, 0.11229001, 0.09460654, 0.11494253, 0.09106985,\n",
       "        0.11405836, 0.08488064, 0.10698497, 0.08399646, 0.10521662,\n",
       "        0.08045977, 0.10433245, 0.08045977, 0.10344828, 0.08311229,\n",
       "        0.10786914, 0.08222812, 0.1025641 , 0.08134394, 0.10344828,\n",
       "        0.0795756 , 0.10344828, 0.07692308, 0.09814324, 0.07427056,\n",
       "        0.10079576, 0.07338638, 0.10167993, 0.07515473, 0.09814324,\n",
       "        0.07161804, 0.09549072, 0.07692308, 0.09814324, 0.07250221,\n",
       "        0.09460654, 0.07073386, 0.0928382 , 0.07073386, 0.08841733,\n",
       "        0.07073386, 0.09195402, 0.06984969, 0.09106985, 0.07250221,\n",
       "        0.09549072, 0.07161804, 0.0928382 , 0.06896552, 0.09018568,\n",
       "        0.06984969, 0.08753316, 0.07250221, 0.08753316, 0.07073386,\n",
       "        0.08753316, 0.07073386, 0.08841733, 0.07073386, 0.08753316,\n",
       "        0.07073386, 0.08664898, 0.06808134, 0.08134394, 0.06984969,\n",
       "        0.08311229, 0.06808134, 0.08488064, 0.06984969, 0.08576481,\n",
       "        0.066313  , 0.08311229, 0.06808134, 0.08311229, 0.06542882,\n",
       "        0.0795756 , 0.06366048, 0.07869142, 0.06542882, 0.08134394,\n",
       "        0.06896552, 0.08222812, 0.06808134, 0.08311229, 0.06719717,\n",
       "        0.08134394, 0.06808134, 0.08134394, 0.07073386, 0.08576481,\n",
       "        0.07250221, 0.08664898, 0.06896552, 0.08045977, 0.06984969,\n",
       "        0.08134394, 0.07161804, 0.08134394, 0.07073386, 0.0795756 ,\n",
       "        0.07161804, 0.08399646, 0.07161804, 0.08488064, 0.0760389 ,\n",
       "        0.0893015 , 0.07427056, 0.08753316, 0.07338638, 0.08841733,\n",
       "        0.07427056, 0.09106985, 0.06984969, 0.08488064, 0.06896552,\n",
       "        0.08399646, 0.07161804, 0.08488064, 0.07250221, 0.08488064,\n",
       "        0.06719717, 0.07780725, 0.06542882, 0.07780725, 0.06542882,\n",
       "        0.08045977, 0.066313  , 0.0795756 , 0.066313  , 0.08222812,\n",
       "        0.06454465, 0.08045977, 0.06100796, 0.07515473, 0.06189213,\n",
       "        0.0760389 , 0.0627763 , 0.0760389 ]),\n",
       " 'split8_test_score': array([0.16357206, 0.16357206, 0.10875332, 0.16357206, 0.09372237,\n",
       "        0.10875332, 0.09814324, 0.14500442, 0.10433245, 0.14588859,\n",
       "        0.10786914, 0.15119363, 0.10167993, 0.13881521, 0.09372237,\n",
       "        0.12643678, 0.08664898, 0.11494253, 0.08576481, 0.11405836,\n",
       "        0.08399646, 0.1158267 , 0.09372237, 0.12290009, 0.0928382 ,\n",
       "        0.12201592, 0.09106985, 0.11759505, 0.09372237, 0.11671088,\n",
       "        0.0928382 , 0.10963749, 0.09195402, 0.11052166, 0.09018568,\n",
       "        0.11052166, 0.08488064, 0.1025641 , 0.08311229, 0.10167993,\n",
       "        0.07869142, 0.10167993, 0.08311229, 0.10433245, 0.08134394,\n",
       "        0.1025641 , 0.07780725, 0.09725906, 0.0795756 , 0.10079576,\n",
       "        0.07515473, 0.10079576, 0.07161804, 0.0928382 , 0.07427056,\n",
       "        0.09637489, 0.07161804, 0.09106985, 0.07250221, 0.09372237,\n",
       "        0.07427056, 0.09460654, 0.06896552, 0.09018568, 0.07073386,\n",
       "        0.0893015 , 0.07161804, 0.08753316, 0.06984969, 0.08576481,\n",
       "        0.066313  , 0.08311229, 0.06454465, 0.08045977, 0.066313  ,\n",
       "        0.07869142, 0.0627763 , 0.07780725, 0.06366048, 0.07780725,\n",
       "        0.06719717, 0.07869142, 0.06984969, 0.08222812, 0.06719717,\n",
       "        0.08399646, 0.06984969, 0.08664898, 0.06984969, 0.08753316,\n",
       "        0.06719717, 0.08576481, 0.06984969, 0.08576481, 0.07338638,\n",
       "        0.08753316, 0.07161804, 0.08311229, 0.07427056, 0.08841733,\n",
       "        0.07427056, 0.09018568, 0.07427056, 0.09018568, 0.07161804,\n",
       "        0.08576481, 0.06984969, 0.08399646, 0.07161804, 0.08576481,\n",
       "        0.06984969, 0.08311229, 0.06984969, 0.08488064, 0.06808134,\n",
       "        0.08399646, 0.07073386, 0.08576481, 0.06984969, 0.08664898,\n",
       "        0.06896552, 0.08488064, 0.06984969, 0.08664898, 0.06896552,\n",
       "        0.08222812, 0.06896552, 0.08311229, 0.06808134, 0.08222812,\n",
       "        0.06896552, 0.08488064, 0.06896552, 0.08311229, 0.066313  ,\n",
       "        0.0795756 , 0.06808134, 0.08134394, 0.066313  , 0.08045977,\n",
       "        0.06719717, 0.08045977, 0.07338638, 0.08664898, 0.07073386,\n",
       "        0.08488064, 0.06896552, 0.08488064, 0.06896552, 0.08399646,\n",
       "        0.06984969, 0.08488064, 0.06366048, 0.08311229, 0.06189213,\n",
       "        0.0795756 , 0.06366048, 0.0795756 , 0.0627763 , 0.07780725,\n",
       "        0.06366048, 0.08134394, 0.0627763 , 0.08222812, 0.06454465,\n",
       "        0.08311229, 0.0627763 , 0.08222812, 0.0627763 , 0.08399646,\n",
       "        0.06189213, 0.08311229, 0.06366048, 0.08222812, 0.06454465,\n",
       "        0.08311229, 0.06542882, 0.08488064, 0.06542882, 0.08222812,\n",
       "        0.06719717, 0.08134394, 0.066313  , 0.08045977, 0.06719717,\n",
       "        0.08399646, 0.06896552, 0.08841733, 0.06896552, 0.09106985,\n",
       "        0.06896552, 0.08576481, 0.06808134, 0.08488064, 0.06808134,\n",
       "        0.08222812, 0.06808134, 0.08222812]),\n",
       " 'split9_test_score': array([0.17860301, 0.17860301, 0.10433245, 0.17860301, 0.08841733,\n",
       "        0.10433245, 0.10433245, 0.16710875, 0.09460654, 0.15207781,\n",
       "        0.09372237, 0.14058355, 0.09372237, 0.13174182, 0.09106985,\n",
       "        0.12997347, 0.09018568, 0.12555261, 0.0928382 , 0.12997347,\n",
       "        0.09195402, 0.12820513, 0.09549072, 0.1290893 , 0.09195402,\n",
       "        0.12024757, 0.08488064, 0.11671088, 0.09018568, 0.11847922,\n",
       "        0.08311229, 0.11140584, 0.08311229, 0.11052166, 0.08222812,\n",
       "        0.10963749, 0.08576481, 0.10963749, 0.08664898, 0.10698497,\n",
       "        0.08664898, 0.10786914, 0.08664898, 0.10786914, 0.08488064,\n",
       "        0.10344828, 0.08576481, 0.10698497, 0.08311229, 0.10786914,\n",
       "        0.08222812, 0.10786914, 0.07780725, 0.10079576, 0.07692308,\n",
       "        0.09991158, 0.07515473, 0.09637489, 0.0760389 , 0.0928382 ,\n",
       "        0.0760389 , 0.09195402, 0.07515473, 0.09106985, 0.07250221,\n",
       "        0.09018568, 0.06984969, 0.08664898, 0.06808134, 0.08488064,\n",
       "        0.07250221, 0.08753316, 0.07161804, 0.08841733, 0.066313  ,\n",
       "        0.08399646, 0.066313  , 0.08222812, 0.06896552, 0.0893015 ,\n",
       "        0.06808134, 0.08753316, 0.06719717, 0.08311229, 0.06808134,\n",
       "        0.08134394, 0.07250221, 0.08841733, 0.07161804, 0.08664898,\n",
       "        0.06719717, 0.08399646, 0.06808134, 0.08311229, 0.07250221,\n",
       "        0.08576481, 0.06808134, 0.08399646, 0.066313  , 0.08488064,\n",
       "        0.06542882, 0.08134394, 0.06189213, 0.07780725, 0.066313  ,\n",
       "        0.08134394, 0.06896552, 0.08488064, 0.066313  , 0.08576481,\n",
       "        0.06454465, 0.0795756 , 0.07073386, 0.08841733, 0.07250221,\n",
       "        0.08664898, 0.07250221, 0.09018568, 0.06896552, 0.08753316,\n",
       "        0.06808134, 0.08664898, 0.06896552, 0.08753316, 0.06896552,\n",
       "        0.08664898, 0.06719717, 0.08134394, 0.06808134, 0.08222812,\n",
       "        0.07073386, 0.08399646, 0.06984969, 0.08311229, 0.06896552,\n",
       "        0.08311229, 0.06896552, 0.08399646, 0.06984969, 0.08488064,\n",
       "        0.07161804, 0.08488064, 0.066313  , 0.08222812, 0.06542882,\n",
       "        0.08311229, 0.06366048, 0.08222812, 0.06719717, 0.08753316,\n",
       "        0.066313  , 0.08753316, 0.06719717, 0.08664898, 0.06189213,\n",
       "        0.08134394, 0.06100796, 0.07780725, 0.05747126, 0.07692308,\n",
       "        0.05658709, 0.07692308, 0.05747126, 0.07515473, 0.05658709,\n",
       "        0.07692308, 0.05835544, 0.07869142, 0.0627763 , 0.08045977,\n",
       "        0.06454465, 0.08045977, 0.0627763 , 0.08134394, 0.06189213,\n",
       "        0.0795756 , 0.06189213, 0.07692308, 0.05658709, 0.07515473,\n",
       "        0.05481874, 0.07073386, 0.0530504 , 0.06719717, 0.05216622,\n",
       "        0.06808134, 0.05393457, 0.07073386, 0.0530504 , 0.06808134,\n",
       "        0.0530504 , 0.06808134, 0.05747126, 0.07338638, 0.05747126,\n",
       "        0.06984969, 0.05923961, 0.07073386]),\n",
       " 'mean_test_score': array([0.17597775, 0.17597775, 0.11154198, 0.17606608, 0.09695749,\n",
       "        0.11516287, 0.11348544, 0.16528042, 0.10871278, 0.15723718,\n",
       "        0.10376492, 0.14760461, 0.09978724, 0.13876577, 0.0995212 ,\n",
       "        0.13434529, 0.09466044, 0.12798229, 0.09448384, 0.12586113,\n",
       "        0.09386492, 0.1254192 , 0.09306971, 0.12409333, 0.09165503,\n",
       "        0.12152946, 0.08944506, 0.11985024, 0.08926956, 0.11764129,\n",
       "        0.08909272, 0.11596214, 0.08944639, 0.11640368, 0.08891612,\n",
       "        0.11339897, 0.08697203, 0.11012886, 0.08467412, 0.10756601,\n",
       "        0.08608825, 0.1095989 , 0.08547074, 0.10862764, 0.0847623 ,\n",
       "        0.10756585, 0.08317103, 0.10588624, 0.08210963, 0.10562067,\n",
       "        0.08007658, 0.10341071, 0.08087202, 0.10314561, 0.08060739,\n",
       "        0.10314577, 0.08016476, 0.10208421, 0.08016484, 0.10137703,\n",
       "        0.08043064, 0.10102391, 0.07981156, 0.09960985, 0.07919256,\n",
       "        0.0997863 , 0.07698275, 0.0967812 , 0.07698259, 0.09589695,\n",
       "        0.07645178, 0.09518977, 0.0761866 , 0.09536614, 0.07503804,\n",
       "        0.09386406, 0.07494931, 0.09324474, 0.07433093, 0.09342213,\n",
       "        0.07406599, 0.09174306, 0.07318174, 0.09103533, 0.07388838,\n",
       "        0.09130073, 0.07362367, 0.09209626, 0.07424252, 0.09236166,\n",
       "        0.07203279, 0.09059386, 0.07247519, 0.0905056 , 0.07274044,\n",
       "        0.08944514, 0.07265202, 0.08891503, 0.07327079, 0.08971024,\n",
       "        0.07221001, 0.08935657, 0.07106074, 0.08820761, 0.07079612,\n",
       "        0.08820792, 0.07035411, 0.08820769, 0.07070746, 0.08856113,\n",
       "        0.07026569, 0.08856073, 0.07159164, 0.08873804, 0.0715033 ,\n",
       "        0.08873804, 0.07159148, 0.08917981, 0.07079572, 0.08864954,\n",
       "        0.07053039, 0.08661657, 0.0698236 , 0.08555642, 0.06964661,\n",
       "        0.08484932, 0.06946962, 0.08431842, 0.06964661, 0.0844951 ,\n",
       "        0.06823303, 0.08290499, 0.06717264, 0.08255101, 0.06734909,\n",
       "        0.0823741 , 0.06743758, 0.08228584, 0.06752585, 0.08263966,\n",
       "        0.06920492, 0.08308073, 0.06973542, 0.08387665, 0.07017641,\n",
       "        0.08396428, 0.06982243, 0.08352212, 0.0703534 , 0.0853788 ,\n",
       "        0.07070707, 0.08573279, 0.06849726, 0.08387602, 0.06734768,\n",
       "        0.08210783, 0.06761301, 0.08184242, 0.06672915, 0.08166598,\n",
       "        0.06522684, 0.08016429, 0.0657575 , 0.0805178 , 0.06575742,\n",
       "        0.08025302, 0.06505055, 0.07981171, 0.06558082, 0.08078337,\n",
       "        0.06619935, 0.08051851, 0.06566877, 0.07945773, 0.06540352,\n",
       "        0.07981109, 0.06593379, 0.0791924 , 0.06593347, 0.07901549,\n",
       "        0.06540305, 0.07883787, 0.06549123, 0.07848475, 0.06487317,\n",
       "        0.07901541, 0.06540352, 0.07963426, 0.06496143, 0.0786619 ,\n",
       "        0.0654917 , 0.07866127, 0.06628699, 0.0791032 , 0.06575695,\n",
       "        0.07821958, 0.06540367, 0.07777812]),\n",
       " 'std_test_score': array([0.00987032, 0.00987032, 0.00626179, 0.00980084, 0.00712072,\n",
       "        0.01875464, 0.00961539, 0.01080676, 0.01012944, 0.01146667,\n",
       "        0.00900969, 0.00865459, 0.00767053, 0.00618964, 0.01040513,\n",
       "        0.00834889, 0.00965598, 0.01113159, 0.00833934, 0.01050912,\n",
       "        0.00863442, 0.00944679, 0.00919095, 0.01019031, 0.0080731 ,\n",
       "        0.0099578 , 0.0087007 , 0.00946868, 0.00918696, 0.01001739,\n",
       "        0.00844915, 0.00905617, 0.00846882, 0.01091279, 0.00823058,\n",
       "        0.0094868 , 0.00942782, 0.00958041, 0.007683  , 0.00785596,\n",
       "        0.00883035, 0.00909866, 0.00836907, 0.00874726, 0.00939695,\n",
       "        0.00954121, 0.00723499, 0.0087154 , 0.00756351, 0.0082636 ,\n",
       "        0.00780344, 0.00687524, 0.00869317, 0.00787237, 0.00895982,\n",
       "        0.00787548, 0.00985247, 0.00891738, 0.00806752, 0.0086752 ,\n",
       "        0.00712816, 0.00752304, 0.00850466, 0.00796003, 0.00731866,\n",
       "        0.00842696, 0.00637302, 0.00757645, 0.00784297, 0.009209  ,\n",
       "        0.00853224, 0.00870983, 0.00880724, 0.01014951, 0.00924976,\n",
       "        0.01049131, 0.00863047, 0.00982808, 0.00763146, 0.00827038,\n",
       "        0.00698486, 0.00830924, 0.00715806, 0.00782947, 0.00819544,\n",
       "        0.00833574, 0.00774769, 0.00873651, 0.00687227, 0.00735528,\n",
       "        0.00688597, 0.00761555, 0.00692212, 0.00852688, 0.00775195,\n",
       "        0.00864209, 0.00742072, 0.00792218, 0.00748158, 0.00786047,\n",
       "        0.00751829, 0.00922422, 0.00861154, 0.00874115, 0.00706512,\n",
       "        0.00822914, 0.00697204, 0.00669709, 0.00679738, 0.00584757,\n",
       "        0.00675541, 0.00853734, 0.0062741 , 0.00699754, 0.0048802 ,\n",
       "        0.00612872, 0.00478956, 0.00546962, 0.00527375, 0.00627717,\n",
       "        0.00549461, 0.00598212, 0.00550075, 0.00532388, 0.00579967,\n",
       "        0.00486628, 0.00637932, 0.00638716, 0.00688324, 0.00712559,\n",
       "        0.00588703, 0.00628101, 0.00535111, 0.00635458, 0.00519578,\n",
       "        0.00712416, 0.0048274 , 0.00634497, 0.00490746, 0.00485388,\n",
       "        0.00532884, 0.00681914, 0.00514312, 0.0060404 , 0.00587889,\n",
       "        0.00690639, 0.00671524, 0.00744027, 0.00590828, 0.00669483,\n",
       "        0.00595966, 0.0055495 , 0.00685132, 0.00764279, 0.00801871,\n",
       "        0.00816254, 0.00761459, 0.00816672, 0.00790668, 0.00710604,\n",
       "        0.00751012, 0.00611215, 0.00639416, 0.0065607 , 0.00727478,\n",
       "        0.00676976, 0.00636005, 0.00495562, 0.00619289, 0.00655185,\n",
       "        0.00686889, 0.0069072 , 0.00640197, 0.0065214 , 0.00717189,\n",
       "        0.00713232, 0.00755554, 0.00713429, 0.00860649, 0.00653809,\n",
       "        0.00872943, 0.00758525, 0.00868735, 0.00685485, 0.00752432,\n",
       "        0.00650102, 0.00734368, 0.00660129, 0.00841541, 0.00842651,\n",
       "        0.00785994, 0.00770229, 0.00752839, 0.00693596, 0.00718263,\n",
       "        0.00616336, 0.00710675, 0.00548265]),\n",
       " 'rank_test_score': array([  2,   2,  21,   1,  41,  18,  19,   4,  24,   5,  30,   6,  37,\n",
       "          7,  40,   8,  46,   9,  47,  10,  48,  11,  52,  12,  56,  13,\n",
       "         64,  14,  66,  15,  68,  17,  62,  16,  69,  20,  79,  22,  88,\n",
       "         26,  81,  23,  84,  25,  87,  27,  95,  28, 102,  29, 116,  31,\n",
       "        106,  33, 108,  32, 114,  34, 113,  35, 111,  36, 118,  39, 122,\n",
       "         38, 133,  42, 134,  43, 135,  45, 136,  44, 137,  49, 138,  51,\n",
       "        139,  50, 141,  55, 145,  58, 142,  57, 143,  54, 140,  53, 150,\n",
       "         59, 148,  60, 146,  63, 147,  70, 144,  61, 149,  65, 154,  78,\n",
       "        155,  76, 160,  77, 157,  74, 162,  75, 151,  71, 153,  71, 152,\n",
       "         67, 156,  73, 159,  80, 164,  83, 167,  86, 169,  90, 167,  89,\n",
       "        172,  97, 178,  99, 176, 100, 175, 101, 174,  98, 170,  96, 166,\n",
       "         92, 163,  91, 165,  94, 161,  85, 158,  82, 171,  93, 177, 103,\n",
       "        173, 104, 179, 105, 195, 115, 184, 110, 185, 112, 196, 117, 188,\n",
       "        107, 181, 109, 187, 121, 192, 119, 182, 123, 183, 125, 194, 127,\n",
       "        190, 130, 198, 126, 192, 120, 197, 128, 189, 129, 180, 124, 186,\n",
       "        131, 191, 132])}"
      ]
     },
     "execution_count": 34,
     "metadata": {},
     "output_type": "execute_result"
    }
   ],
   "source": [
    "\n",
    "# voir les résultats complets (liste nommés des tuples)\n",
    "\n",
    "\n",
    "grid.cv_results_"
   ]
  },
  {
   "cell_type": "code",
   "execution_count": 36,
   "metadata": {},
   "outputs": [
    {
     "name": "stdout",
     "output_type": "stream",
     "text": [
      "0.17606608492437661\n",
      "{'n_neighbors': 2, 'weights': 'distance'}\n",
      "KNeighborsClassifier(algorithm='auto', leaf_size=30, metric='minkowski',\n",
      "                     metric_params=None, n_jobs=None, n_neighbors=2, p=2,\n",
      "                     weights='distance')\n"
     ]
    }
   ],
   "source": [
    "# examiner le meilleur modèle\n",
    "print (grid.best_score_)\n",
    "print (grid.best_params_)\n",
    "print (grid.best_estimator_)"
   ]
  },
  {
   "cell_type": "markdown",
   "metadata": {},
   "source": [
    "## Réduction des dépenses informatiques à l’aide de RandomizedSearchCV pour KNN\n",
    "\n"
   ]
  },
  {
   "cell_type": "code",
   "execution_count": 37,
   "metadata": {},
   "outputs": [],
   "source": [
    "# importation du module requis\n",
    "from sklearn.model_selection import RandomizedSearchCV"
   ]
  },
  {
   "cell_type": "code",
   "execution_count": 38,
   "metadata": {},
   "outputs": [
    {
     "name": "stdout",
     "output_type": "stream",
     "text": [
      "{'n_neighbors': range(1, 100), 'weights': ['uniform', 'distance']}\n"
     ]
    }
   ],
   "source": [
    "# spécifier les \" distributions de paramètres \" plutôt qu’une \"grille de paramètres\"\n",
    "param_dist = dict(n_neighbors=k_range, weights=weight_options)\n",
    "print (param_dist)"
   ]
  },
  {
   "cell_type": "code",
   "execution_count": 39,
   "metadata": {},
   "outputs": [
    {
     "data": {
      "text/plain": [
       "{'mean_fit_time': array([0.01895039, 0.01735492, 0.01815276, 0.01665726, 0.01835172,\n",
       "        0.01755409, 0.01825264, 0.01665576, 0.01605673, 0.01715498]),\n",
       " 'std_fit_time': array([0.00154453, 0.00079715, 0.0014656 , 0.00109622, 0.00101652,\n",
       "        0.00179455, 0.00194614, 0.00126558, 0.00029979, 0.00086962]),\n",
       " 'mean_score_time': array([0.98536458, 0.97648757, 0.99443972, 1.01857512, 0.99543793,\n",
       "        1.0143867 , 1.01418703, 1.00451314, 0.9949393 , 0.97050443]),\n",
       " 'std_score_time': array([0.00907443, 0.01279082, 0.01740886, 0.01045052, 0.01918682,\n",
       "        0.01304465, 0.01081988, 0.01059962, 0.01136438, 0.01276786]),\n",
       " 'param_weights': masked_array(data=['distance', 'distance', 'distance', 'uniform',\n",
       "                    'distance', 'uniform', 'uniform', 'uniform', 'uniform',\n",
       "                    'distance'],\n",
       "              mask=[False, False, False, False, False, False, False, False,\n",
       "                    False, False],\n",
       "        fill_value='?',\n",
       "             dtype=object),\n",
       " 'param_n_neighbors': masked_array(data=[60, 39, 96, 75, 77, 76, 62, 4, 15, 36],\n",
       "              mask=[False, False, False, False, False, False, False, False,\n",
       "                    False, False],\n",
       "        fill_value='?',\n",
       "             dtype=object),\n",
       " 'params': [{'weights': 'distance', 'n_neighbors': 60},\n",
       "  {'weights': 'distance', 'n_neighbors': 39},\n",
       "  {'weights': 'distance', 'n_neighbors': 96},\n",
       "  {'weights': 'uniform', 'n_neighbors': 75},\n",
       "  {'weights': 'distance', 'n_neighbors': 77},\n",
       "  {'weights': 'uniform', 'n_neighbors': 76},\n",
       "  {'weights': 'uniform', 'n_neighbors': 62},\n",
       "  {'weights': 'uniform', 'n_neighbors': 4},\n",
       "  {'weights': 'uniform', 'n_neighbors': 15},\n",
       "  {'weights': 'distance', 'n_neighbors': 36}],\n",
       " 'split0_test_score': array([0.09452297, 0.09275618, 0.08215548, 0.07155477, 0.08568905,\n",
       "        0.07155477, 0.0680212 , 0.11219081, 0.0795053 , 0.09628975]),\n",
       " 'split1_test_score': array([0.09187279, 0.09805654, 0.08480565, 0.07243816, 0.08833922,\n",
       "        0.07155477, 0.06978799, 0.11660777, 0.09275618, 0.09805654]),\n",
       " 'split2_test_score': array([0.09187279, 0.10159011, 0.08745583, 0.08215548, 0.09893993,\n",
       "        0.08303887, 0.07420495, 0.11572438, 0.07862191, 0.09628975]),\n",
       " 'split3_test_score': array([0.09540636, 0.10954064, 0.08657244, 0.07685512, 0.08922261,\n",
       "        0.07685512, 0.08303887, 0.13515901, 0.11042403, 0.1130742 ]),\n",
       " 'split4_test_score': array([0.08576481, 0.09725906, 0.07515473, 0.06896552, 0.08222812,\n",
       "        0.06984969, 0.07073386, 0.10963749, 0.09106985, 0.09814324]),\n",
       " 'split5_test_score': array([0.0928382 , 0.08222812, 0.06896552, 0.05923961, 0.07338638,\n",
       "        0.06012378, 0.06366048, 0.11317418, 0.08311229, 0.09018568]),\n",
       " 'split6_test_score': array([0.07250221, 0.08841733, 0.06719717, 0.06542882, 0.07073386,\n",
       "        0.06542882, 0.06189213, 0.10786914, 0.0795756 , 0.08488064]),\n",
       " 'split7_test_score': array([0.08753316, 0.1025641 , 0.08045977, 0.07073386, 0.08045977,\n",
       "        0.07250221, 0.06808134, 0.12201592, 0.09372237, 0.10433245]),\n",
       " 'split8_test_score': array([0.08664898, 0.07780725, 0.08576481, 0.06896552, 0.08311229,\n",
       "        0.06984969, 0.06984969, 0.09814324, 0.09372237, 0.08311229]),\n",
       " 'split9_test_score': array([0.08753316, 0.08222812, 0.06808134, 0.06719717, 0.08664898,\n",
       "        0.066313  , 0.06896552, 0.10433245, 0.09018568, 0.08753316]),\n",
       " 'mean_test_score': array([0.08864954, 0.09324474, 0.07866127, 0.0703534 , 0.08387602,\n",
       "        0.07070707, 0.0698236 , 0.11348544, 0.08926956, 0.09518977]),\n",
       " 'std_test_score': array([0.00627717, 0.00982808, 0.00770229, 0.00590828, 0.00764279,\n",
       "        0.00595966, 0.00550075, 0.00961539, 0.00918696, 0.00870983]),\n",
       " 'rank_test_score': array([ 5,  3,  7,  9,  6,  8, 10,  1,  4,  2])}"
      ]
     },
     "execution_count": 39,
     "metadata": {},
     "output_type": "execute_result"
    }
   ],
   "source": [
    "# n_iter contrôle le nombre de recherches\n",
    "rand = RandomizedSearchCV(clf_knn, param_dist, cv=10, scoring='accuracy', n_iter=10, random_state=5)\n",
    "rand.fit(Xtr, ytr)\n",
    "rand.cv_results_"
   ]
  },
  {
   "cell_type": "code",
   "execution_count": 40,
   "metadata": {},
   "outputs": [
    {
     "name": "stdout",
     "output_type": "stream",
     "text": [
      "0.11348543925916901\n",
      "{'weights': 'uniform', 'n_neighbors': 4}\n"
     ]
    }
   ],
   "source": [
    "# examiner le meilleur modèle\n",
    "print (rand.best_score_)\n",
    "print (rand.best_params_)"
   ]
  },
  {
   "cell_type": "markdown",
   "metadata": {},
   "source": [
    "## Précision de classification de KNN"
   ]
  },
  {
   "cell_type": "code",
   "execution_count": 41,
   "metadata": {},
   "outputs": [
    {
     "name": "stdout",
     "output_type": "stream",
     "text": [
      "Predicted Class Labels: [4 4 4 ... 4 4 4]\n",
      "Classification Accuracy: 0.11338289962825279\n"
     ]
    }
   ],
   "source": [
    "import sklearn.metrics as metrics\n",
    "#  Instantané de l’estimateur\n",
    "clf_knn =  KNeighborsClassifier(n_neighbors=1, weights='distance')\n",
    "\n",
    "# Adapter le modèle avec des données (aka \"model training\")\n",
    "clf_knn.fit(Xtr, ytr)\n",
    "\n",
    "# Prédire la réponse pour une nouvelle observation\n",
    "y_pred_knn = clf_knn.predict(Xtt)\n",
    "print (\"Predicted Class Labels:\",y_pred_knn)\n",
    "\n",
    "# calculer accuracy\n",
    "print (\"Classification Accuracy:\",metrics.accuracy_score(ytt, y_pred_knn))"
   ]
  },
  {
   "cell_type": "markdown",
   "metadata": {},
   "source": [
    "## Matrice de confusion de KNN"
   ]
  },
  {
   "cell_type": "code",
   "execution_count": 43,
   "metadata": {},
   "outputs": [
    {
     "name": "stdout",
     "output_type": "stream",
     "text": [
      "[[ 21   0   0   0 291   0   0   1   1   0   0   3   0   0   0   1   0   0\n",
      "    0   1]\n",
      " [  0  20   0   0 368   0   0   0   0   1   0   0   0   0   0   0   0   0\n",
      "    0   0]\n",
      " [  0   0  12   1 376   1   0   0   0   0   0   0   1   0   2   0   0   0\n",
      "    0   1]\n",
      " [  0   1   2  38 350   0   0   0   0   0   0   0   1   0   0   0   0   0\n",
      "    0   0]\n",
      " [  0   0   0   0 385   0   0   0   0   0   0   0   0   0   0   0   0   0\n",
      "    0   0]\n",
      " [  0   1   1   2 366  25   0   0   0   0   0   0   0   0   0   0   0   0\n",
      "    0   0]\n",
      " [  0   0   0   1 337   0  45   0   1   4   0   0   2   0   0   0   0   0\n",
      "    0   0]\n",
      " [  0   0   0   0 383   1   0  11   1   0   0   0   0   0   0   0   0   0\n",
      "    0   0]\n",
      " [  0   0   1   0 371   0   0   0  26   0   0   0   0   0   0   0   0   0\n",
      "    0   0]\n",
      " [  0   0   0   0 382   0   0   0   0  15   0   0   0   0   0   0   0   0\n",
      "    0   0]\n",
      " [  0   0   0   0 354   0   0   0   1   0  43   0   0   1   0   0   0   0\n",
      "    0   0]\n",
      " [  0   0   1   0 363   0   0   0   0   0   1  27   0   0   0   0   2   1\n",
      "    0   1]\n",
      " [  0   0   0   0 379   0   1   0   0   0   0   0  13   0   0   0   0   0\n",
      "    0   0]\n",
      " [  0   0   0   0 381   0   0   0   0   0   0   0   0  15   0   0   0   0\n",
      "    0   0]\n",
      " [  0   0   0   0 366   0   0   2   0   0   0   0   0   0  26   0   0   0\n",
      "    0   0]\n",
      " [  8   0   0   0 358   0   0   0   0   0   0   0   0   0   0  31   0   0\n",
      "    0   1]\n",
      " [  0   1   0   0 346   0   0   1   0   0   0   2   0   0   1   0  10   3\n",
      "    0   0]\n",
      " [  0   0   0   0 315   0   0   1   0   0   0   1   0   0   0   0   0  59\n",
      "    0   0]\n",
      " [  0   0   0   0 284   0   0   0   0   0   0   0   0   0   0   0   6   0\n",
      "   20   0]\n",
      " [  3   0   0   0 224   0   0   1   0   0   0   5   0   0   1   4   0   1\n",
      "    0  12]]\n"
     ]
    }
   ],
   "source": [
    "# premier argument est de vraies valeurs, deuxième argument est prédit valeurs\n",
    "print (metrics.confusion_matrix(ytt, y_pred_knn))"
   ]
  },
  {
   "cell_type": "markdown",
   "metadata": {},
   "source": [
    "## Mesures calculées à partir d’une matrice de confusion"
   ]
  },
  {
   "cell_type": "code",
   "execution_count": 44,
   "metadata": {},
   "outputs": [
    {
     "name": "stdout",
     "output_type": "stream",
     "text": [
      "Classification Error of KNN: 0.8866171003717472\n"
     ]
    }
   ],
   "source": [
    "print (\"Classification Error of KNN:\", 1 - metrics.accuracy_score(ytt, y_pred_knn))"
   ]
  },
  {
   "cell_type": "code",
   "execution_count": 45,
   "metadata": {},
   "outputs": [
    {
     "name": "stdout",
     "output_type": "stream",
     "text": [
      "Sensitivity of KNN: 0.11338289962825279\n"
     ]
    }
   ],
   "source": [
    "print (\"Sensitivity of KNN:\",metrics.recall_score(ytt, y_pred_knn, average='weighted'))"
   ]
  },
  {
   "cell_type": "code",
   "execution_count": 46,
   "metadata": {},
   "outputs": [
    {
     "name": "stdout",
     "output_type": "stream",
     "text": [
      "Precision of KNN: 0.786268523482684\n"
     ]
    }
   ],
   "source": [
    "print (\"Precision of KNN:\", metrics.precision_score(ytt, y_pred_knn, average='weighted'))"
   ]
  },
  {
   "cell_type": "code",
   "execution_count": 47,
   "metadata": {},
   "outputs": [
    {
     "name": "stdout",
     "output_type": "stream",
     "text": [
      "F-measure of KNN: 0.1193387867516638\n"
     ]
    }
   ],
   "source": [
    "print (\"F-measure of KNN:\", metrics.f1_score(ytt, y_pred_knn, average='weighted'))"
   ]
  },
  {
   "cell_type": "markdown",
   "metadata": {},
   "source": [
    "## Courbes ROC et zone sous la courbe (AUC)\n",
    "\n"
   ]
  },
  {
   "cell_type": "code",
   "execution_count": 51,
   "metadata": {},
   "outputs": [],
   "source": [
    "\n",
    "# importation des modules requis\n",
    "from sklearn.metrics import roc_curve, auc\n",
    "from sklearn.model_selection import train_test_split\n",
    "from sklearn.preprocessing import label_binarize\n",
    "from sklearn.multiclass import OneVsRestClassifier"
   ]
  },
  {
   "cell_type": "code",
   "execution_count": 52,
   "metadata": {},
   "outputs": [],
   "source": [
    "def ROC_multi_class(Xtr, ytr, Xtt, ytt, clf):\n",
    "    \n",
    "    classes = [0,1, 2, 3, 4]\n",
    "    # Binarize la sortie\n",
    "    ytr = label_binarize(ytr, classes=classes)\n",
    "    n_classes = ytr.shape[1]\n",
    "    \n",
    "    # Apprenez à prédire chaque classe par rapport à l’autre\n",
    "    classifier = OneVsRestClassifier(clf)\n",
    "    classifier.fit(Xtr, ytr)\n",
    "    if (clf == clf_knn):\n",
    "        \n",
    "    \n",
    "        y_pred_score = classifier.predict_proba(Xtt)\n",
    "    \n",
    "    ytt = label_binarize(ytt, classes=classes)\n",
    "    \n",
    "    \n",
    "    # Courbe ROC de calcul et zone ROC pour chaque classe\n",
    "    fpr = dict()\n",
    "    tpr = dict()\n",
    "    roc_auc = dict()\n",
    "    for i in range(n_classes):\n",
    "        fpr[i], tpr[i], _ = roc_curve(ytt[:, i], y_pred_score[:, i])\n",
    "        roc_auc[i] = auc(fpr[i], tpr[i])\n",
    "\n",
    "    \n",
    "    # Plot Courbes ROC pour la multiclasse\n",
    "    for i in range(n_classes):\n",
    "        plt.plot(fpr[i], tpr[i], label='ROC curve of class {0} (area = {1:0.2f})'\n",
    "                                       ''.format(i+1, roc_auc[i]))\n",
    "    \n",
    "    plt.plot([0, 1], [0, 1], 'k--')\n",
    "    plt.xlim([0.0, 1.0])\n",
    "    plt.ylim([0.0, 1.05])\n",
    "    plt.xlabel('False Positive Rate')\n",
    "    plt.ylabel('True Positive Rate')\n",
    "    plt.title('ROC of multi-class')\n",
    "    plt.legend(loc=\"lower right\")\n",
    "    plt.show()"
   ]
  },
  {
   "cell_type": "markdown",
   "metadata": {},
   "source": [
    "## ROC multi-classes de KNN"
   ]
  },
  {
   "cell_type": "code",
   "execution_count": 53,
   "metadata": {},
   "outputs": [
    {
     "name": "stdout",
     "output_type": "stream",
     "text": [
      "ROC and AUC of KNN\n"
     ]
    },
    {
     "data": {
      "image/png": "[encoded data removed]",
      "text/plain": [
       "<Figure size 432x288 with 1 Axes>"
      ]
     },
     "metadata": {
      "needs_background": "light"
     },
     "output_type": "display_data"
    }
   ],
   "source": [
    "print (\"ROC and AUC of KNN\")\n",
    "ROC_multi_class(Xtr, ytr, Xtt, ytt, clf_knn)"
   ]
  },
  {
   "cell_type": "markdown",
   "metadata": {},
   "source": [
    "## Courbes de relations publiques et zone sous la courbe PR (AUC-PR)"
   ]
  },
  {
   "cell_type": "code",
   "execution_count": 54,
   "metadata": {},
   "outputs": [],
   "source": [
    "# importation du module requis\n",
    "from sklearn.metrics import precision_recall_curve\n",
    "from sklearn.metrics import average_precision_score"
   ]
  },
  {
   "cell_type": "code",
   "execution_count": 55,
   "metadata": {},
   "outputs": [],
   "source": [
    "def PR_multi_class(Xtr, ytr, Xtt, ytt, clf):\n",
    "    \n",
    "    classes = [0,1, 2, 3, 4]\n",
    "    # Binarize la sortie\n",
    "    ytr = label_binarize(ytr, classes=classes)\n",
    "    n_classes = ytr.shape[1]\n",
    "    \n",
    "    # Apprenez à prédire chaque classe par rapport à l’autre\n",
    "    classifier = OneVsRestClassifier(clf)\n",
    "    classifier.fit(Xtr, ytr)\n",
    "    if (clf == clf_knn):\n",
    "        \n",
    "        y_pred_score = classifier.predict_proba(Xtt)\n",
    "    \n",
    "    ytt = label_binarize(ytt, classes=classes)\n",
    "    \n",
    "    # Calculez la précision-Recall et plot la courbe \n",
    "    precision = dict()\n",
    "    recall = dict()\n",
    "    average_precision = dict()\n",
    "    for i in range(n_classes):\n",
    "        precision[i], recall[i], _ = precision_recall_curve(ytt[:, i], y_pred_score[:, i])\n",
    "        average_precision[i] = average_precision_score(ytt[:, i], y_pred_score[:, i])\n",
    "    \n",
    "    for i in range(n_classes):\n",
    "        plt.plot(recall[i], precision[i], label='PR curve of class {0} (area = {1:0.2f})'\n",
    "                       ''.format(i+1, average_precision[i]))\n",
    "    \n",
    "    plt.xlim([0.0, 1.0])\n",
    "    plt.ylim([0.0, 1.05])\n",
    "    plt.xlabel('Recall')\n",
    "    plt.ylabel('Precision')\n",
    "    plt.title('Precision-Recall curve of multi-class')\n",
    "    plt.legend(loc=\"lower right\")\n",
    "    plt.show()"
   ]
  },
  {
   "cell_type": "code",
   "execution_count": 56,
   "metadata": {},
   "outputs": [
    {
     "name": "stdout",
     "output_type": "stream",
     "text": [
      "PR and AUC of KNN\n"
     ]
    },
    {
     "data": {
      "image/png": "[encoded data removed]",
      "text/plain": [
       "<Figure size 432x288 with 1 Axes>"
      ]
     },
     "metadata": {
      "needs_background": "light"
     },
     "output_type": "display_data"
    }
   ],
   "source": [
    "# Courbe PR de KNeighborsClassifier\n",
    "print (\"PR and AUC of KNN\")\n",
    "PR_multi_class(Xtr, ytr, Xtt, ytt, clf_knn)"
   ]
  },
  {
   "cell_type": "code",
   "execution_count": null,
   "metadata": {},
   "outputs": [],
   "source": []
  }
 ],
 "metadata": {
  "kernelspec": {
   "display_name": "Python 3",
   "language": "python",
   "name": "python3"
  },
  "language_info": {
   "codemirror_mode": {
    "name": "ipython",
    "version": 3
   },
   "file_extension": ".py",
   "mimetype": "text/x-python",
   "name": "python",
   "nbconvert_exporter": "python",
   "pygments_lexer": "ipython3",
   "version": "3.7.4"
  }
 },
 "nbformat": 4,
 "nbformat_minor": 2
}
